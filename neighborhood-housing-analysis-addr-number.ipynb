{
 "cells": [
  {
   "cell_type": "markdown",
   "metadata": {},
   "source": [
    "# How lucky and unlucky numbers can play a vital role in determining your property values "
   ]
  },
  {
   "cell_type": "markdown",
   "metadata": {},
   "source": [
    "Numerical superstitious beliefs are wide spread in Asian countries and have a powerful impact in decision-making, from choosing a license plate or mobile number to making momentous decisions, such as buying a house. People who have been immersed in Asian culture tend to believe that things associated with the \"lucky numbers\" can also bring them good luck.\n",
    "\n",
    "For example eight is considered the luckiest number because it sounds like \"wealth\" in Chinese. Four, on the other side, is often deemed as an inauspicious number because it sounds like the Chinese word for death. \n",
    "\n",
    "With the surge of Chinese buyers in the U.S. housing market, properties related to auspicious numbers might be more appealing to buyers, and vice versa. I want to examine the U.S. housing data to see whether the street number or the apartment number could affect the property values. My hypothesis is that in markets with more ethnic Chinese and Taiwanese buyers, average price of houses with street addresses ending or starting with the unlucky number four will be lower while that with the lucky number eight will be higher.\n",
    "\n",
    "data source: https://www1.nyc.gov/site/finance/taxes/property-annualized-sales-update.page"
   ]
  },
  {
   "cell_type": "code",
   "execution_count": 1,
   "metadata": {},
   "outputs": [],
   "source": [
    "import pandas as pd\n",
    "import missingno as msno\n",
    "import matplotlib.pyplot as plt\n",
    "import seaborn as sns\n",
    "import plotly.express as px\n",
    "%matplotlib inline\n",
    "plt.style.use('fivethirtyeight')\n",
    "sns.set(style=\"whitegrid\")"
   ]
  },
  {
   "cell_type": "markdown",
   "metadata": {},
   "source": [
    "I decided to focus on New York in my initial analysis. \n",
    "\n",
    "New York is an ideal setting for this project because it has been destinations for Chinese immigrants since the 1830s and home to the largest ethnic Chinese population in the United States. \n",
    "\n",
    "I analyzed housing data between 2012 and 2019 from NYC department of Finance. "
   ]
  },
  {
   "cell_type": "code",
   "execution_count": 229,
   "metadata": {},
   "outputs": [],
   "source": [
    "# load in housing data from 2011 to 2019\n",
    "years = [\"2012\", \"2013\", \"2014\", \"2016\", \"2017\", \"2018\", \"2019\"]\n",
    "\n",
    "si = pd.read_excel(\"nyc-gov-rolling-sales-data/2015_statenisland.xls\", header=4)\n",
    "bx = pd.read_excel(\"nyc-gov-rolling-sales-data/2015_bronx.xls\", header=4)\n",
    "bk = pd.read_excel(\"nyc-gov-rolling-sales-data/2015_brooklyn.xls\", header=4)\n",
    "mt = pd.read_excel(\"nyc-gov-rolling-sales-data/2015_manhattan.xls\", header=4)\n",
    "qn = pd.read_excel(\"nyc-gov-rolling-sales-data/2015_queens.xls\", header=4)\n",
    "df_o = pd.concat([si, bx, bk, mt, qn]).reset_index(drop=True)\n",
    "    \n",
    "for i in years:\n",
    "    if i == \"2018\" or i == \"2019\": \n",
    "        si = pd.read_excel(\"nyc-gov-rolling-sales-data/\"+ i + \"_statenisland.xlsx\", header=4)\n",
    "        bx = pd.read_excel(\"nyc-gov-rolling-sales-data/\"+ i + \"_bronx.xlsx\", header=4)\n",
    "        bk = pd.read_excel(\"nyc-gov-rolling-sales-data/\"+ i + \"_brooklyn.xlsx\", header=4)\n",
    "        mt = pd.read_excel(\"nyc-gov-rolling-sales-data/\"+ i + \"_manhattan.xlsx\", header=4)\n",
    "        qn = pd.read_excel(\"nyc-gov-rolling-sales-data/\"+ i + \"_queens.xlsx\", header=4)\n",
    "    else: \n",
    "        si = pd.read_excel(\"nyc-gov-rolling-sales-data/\"+ i + \"_statenisland.xls\", header=4)\n",
    "        bx = pd.read_excel(\"nyc-gov-rolling-sales-data/\"+ i +\"_bronx.xls\", header=4)\n",
    "        bk = pd.read_excel(\"nyc-gov-rolling-sales-data/\"+ i +\"_brooklyn.xls\", header=4)\n",
    "        mt = pd.read_excel(\"nyc-gov-rolling-sales-data/\"+ i +\"_manhattan.xls\", header=4)\n",
    "        qn = pd.read_excel(\"nyc-gov-rolling-sales-data/\"+ i +\"_queens.xls\", header=4)\n",
    "\n",
    "    df_o = pd.concat([df_o, si, bx, bk, mt, qn]).reset_index(drop=True)"
   ]
  },
  {
   "cell_type": "code",
   "execution_count": 230,
   "metadata": {
    "scrolled": true
   },
   "outputs": [],
   "source": [
    "df_o.columns = [i.replace('\\n', '') for i in df_o.columns]"
   ]
  },
  {
   "cell_type": "code",
   "execution_count": 231,
   "metadata": {},
   "outputs": [
    {
     "data": {
      "text/html": [
       "<div>\n",
       "<style scoped>\n",
       "    .dataframe tbody tr th:only-of-type {\n",
       "        vertical-align: middle;\n",
       "    }\n",
       "\n",
       "    .dataframe tbody tr th {\n",
       "        vertical-align: top;\n",
       "    }\n",
       "\n",
       "    .dataframe thead th {\n",
       "        text-align: right;\n",
       "    }\n",
       "</style>\n",
       "<table border=\"1\" class=\"dataframe\">\n",
       "  <thead>\n",
       "    <tr style=\"text-align: right;\">\n",
       "      <th></th>\n",
       "      <th>BOROUGH</th>\n",
       "      <th>NEIGHBORHOOD</th>\n",
       "      <th>BUILDING CLASS CATEGORY</th>\n",
       "      <th>TAX CLASS AT PRESENT</th>\n",
       "      <th>BLOCK</th>\n",
       "      <th>LOT</th>\n",
       "      <th>EASE-MENT</th>\n",
       "      <th>BUILDING CLASS AT PRESENT</th>\n",
       "      <th>ADDRESS</th>\n",
       "      <th>APARTMENT NUMBER</th>\n",
       "      <th>...</th>\n",
       "      <th>GROSS SQUARE FEET</th>\n",
       "      <th>YEAR BUILT</th>\n",
       "      <th>TAX CLASS AT TIME OF SALE</th>\n",
       "      <th>BUILDING CLASS AT TIME OF SALE</th>\n",
       "      <th>SALE PRICE</th>\n",
       "      <th>SALE DATE</th>\n",
       "      <th>TAX CLASS AS OF FINAL ROLL 17/18</th>\n",
       "      <th>BUILDING CLASS AS OF FINAL ROLL 17/18</th>\n",
       "      <th>TAX CLASS AS OF FINAL ROLL 18/19</th>\n",
       "      <th>BUILDING CLASS AS OF FINAL ROLL 18/19</th>\n",
       "    </tr>\n",
       "  </thead>\n",
       "  <tbody>\n",
       "    <tr>\n",
       "      <th>0</th>\n",
       "      <td>5.0</td>\n",
       "      <td>ANNADALE</td>\n",
       "      <td>01  ONE FAMILY DWELLINGS</td>\n",
       "      <td>1</td>\n",
       "      <td>5394.0</td>\n",
       "      <td>4.0</td>\n",
       "      <td></td>\n",
       "      <td>A2</td>\n",
       "      <td>26 FINGAL STREET</td>\n",
       "      <td></td>\n",
       "      <td>...</td>\n",
       "      <td>NaN</td>\n",
       "      <td>NaN</td>\n",
       "      <td>NaN</td>\n",
       "      <td>NaN</td>\n",
       "      <td>NaN</td>\n",
       "      <td>NaT</td>\n",
       "      <td>NaN</td>\n",
       "      <td>NaN</td>\n",
       "      <td>NaN</td>\n",
       "      <td>NaN</td>\n",
       "    </tr>\n",
       "    <tr>\n",
       "      <th>1</th>\n",
       "      <td>5.0</td>\n",
       "      <td>ANNADALE</td>\n",
       "      <td>01  ONE FAMILY DWELLINGS</td>\n",
       "      <td>1</td>\n",
       "      <td>5397.0</td>\n",
       "      <td>51.0</td>\n",
       "      <td></td>\n",
       "      <td>A1</td>\n",
       "      <td>23 EYLANDT STREET</td>\n",
       "      <td></td>\n",
       "      <td>...</td>\n",
       "      <td>NaN</td>\n",
       "      <td>NaN</td>\n",
       "      <td>NaN</td>\n",
       "      <td>NaN</td>\n",
       "      <td>NaN</td>\n",
       "      <td>NaT</td>\n",
       "      <td>NaN</td>\n",
       "      <td>NaN</td>\n",
       "      <td>NaN</td>\n",
       "      <td>NaN</td>\n",
       "    </tr>\n",
       "    <tr>\n",
       "      <th>2</th>\n",
       "      <td>5.0</td>\n",
       "      <td>ANNADALE</td>\n",
       "      <td>01  ONE FAMILY DWELLINGS</td>\n",
       "      <td>1</td>\n",
       "      <td>5401.0</td>\n",
       "      <td>5.0</td>\n",
       "      <td></td>\n",
       "      <td>A2</td>\n",
       "      <td>28 JANSEN STREET</td>\n",
       "      <td></td>\n",
       "      <td>...</td>\n",
       "      <td>NaN</td>\n",
       "      <td>NaN</td>\n",
       "      <td>NaN</td>\n",
       "      <td>NaN</td>\n",
       "      <td>NaN</td>\n",
       "      <td>NaT</td>\n",
       "      <td>NaN</td>\n",
       "      <td>NaN</td>\n",
       "      <td>NaN</td>\n",
       "      <td>NaN</td>\n",
       "    </tr>\n",
       "    <tr>\n",
       "      <th>3</th>\n",
       "      <td>5.0</td>\n",
       "      <td>ANNADALE</td>\n",
       "      <td>01  ONE FAMILY DWELLINGS</td>\n",
       "      <td>1</td>\n",
       "      <td>5402.0</td>\n",
       "      <td>43.0</td>\n",
       "      <td></td>\n",
       "      <td>A1</td>\n",
       "      <td>295 HAROLD AVENUE</td>\n",
       "      <td></td>\n",
       "      <td>...</td>\n",
       "      <td>NaN</td>\n",
       "      <td>NaN</td>\n",
       "      <td>NaN</td>\n",
       "      <td>NaN</td>\n",
       "      <td>NaN</td>\n",
       "      <td>NaT</td>\n",
       "      <td>NaN</td>\n",
       "      <td>NaN</td>\n",
       "      <td>NaN</td>\n",
       "      <td>NaN</td>\n",
       "    </tr>\n",
       "    <tr>\n",
       "      <th>4</th>\n",
       "      <td>5.0</td>\n",
       "      <td>ANNADALE</td>\n",
       "      <td>01  ONE FAMILY DWELLINGS</td>\n",
       "      <td>1</td>\n",
       "      <td>5404.0</td>\n",
       "      <td>46.0</td>\n",
       "      <td></td>\n",
       "      <td>A1</td>\n",
       "      <td>119 LENZIE STREET</td>\n",
       "      <td></td>\n",
       "      <td>...</td>\n",
       "      <td>NaN</td>\n",
       "      <td>NaN</td>\n",
       "      <td>NaN</td>\n",
       "      <td>NaN</td>\n",
       "      <td>NaN</td>\n",
       "      <td>NaT</td>\n",
       "      <td>NaN</td>\n",
       "      <td>NaN</td>\n",
       "      <td>NaN</td>\n",
       "      <td>NaN</td>\n",
       "    </tr>\n",
       "  </tbody>\n",
       "</table>\n",
       "<p>5 rows × 46 columns</p>\n",
       "</div>"
      ],
      "text/plain": [
       "   BOROUGH               NEIGHBORHOOD  \\\n",
       "0      5.0  ANNADALE                    \n",
       "1      5.0  ANNADALE                    \n",
       "2      5.0  ANNADALE                    \n",
       "3      5.0  ANNADALE                    \n",
       "4      5.0  ANNADALE                    \n",
       "\n",
       "                        BUILDING CLASS CATEGORY TAX CLASS AT PRESENT   BLOCK  \\\n",
       "0  01  ONE FAMILY DWELLINGS                                        1  5394.0   \n",
       "1  01  ONE FAMILY DWELLINGS                                        1  5397.0   \n",
       "2  01  ONE FAMILY DWELLINGS                                        1  5401.0   \n",
       "3  01  ONE FAMILY DWELLINGS                                        1  5402.0   \n",
       "4  01  ONE FAMILY DWELLINGS                                        1  5404.0   \n",
       "\n",
       "    LOT EASE-MENT BUILDING CLASS AT PRESENT  \\\n",
       "0   4.0                                  A2   \n",
       "1  51.0                                  A1   \n",
       "2   5.0                                  A2   \n",
       "3  43.0                                  A1   \n",
       "4  46.0                                  A1   \n",
       "\n",
       "                                     ADDRESS APARTMENT NUMBER  ...  \\\n",
       "0  26 FINGAL STREET                                            ...   \n",
       "1  23 EYLANDT STREET                                           ...   \n",
       "2  28 JANSEN STREET                                            ...   \n",
       "3  295 HAROLD AVENUE                                           ...   \n",
       "4  119 LENZIE STREET                                           ...   \n",
       "\n",
       "   GROSS SQUARE FEET  YEAR BUILT  TAX CLASS AT TIME OF SALE  \\\n",
       "0                NaN         NaN                        NaN   \n",
       "1                NaN         NaN                        NaN   \n",
       "2                NaN         NaN                        NaN   \n",
       "3                NaN         NaN                        NaN   \n",
       "4                NaN         NaN                        NaN   \n",
       "\n",
       "   BUILDING CLASS AT TIME OF SALE  SALE PRICE  SALE DATE  \\\n",
       "0                             NaN         NaN        NaT   \n",
       "1                             NaN         NaN        NaT   \n",
       "2                             NaN         NaN        NaT   \n",
       "3                             NaN         NaN        NaT   \n",
       "4                             NaN         NaN        NaT   \n",
       "\n",
       "   TAX CLASS AS OF FINAL ROLL 17/18  BUILDING CLASS AS OF FINAL ROLL 17/18  \\\n",
       "0                               NaN                                    NaN   \n",
       "1                               NaN                                    NaN   \n",
       "2                               NaN                                    NaN   \n",
       "3                               NaN                                    NaN   \n",
       "4                               NaN                                    NaN   \n",
       "\n",
       "  TAX CLASS AS OF FINAL ROLL 18/19  BUILDING CLASS AS OF FINAL ROLL 18/19  \n",
       "0                              NaN                                    NaN  \n",
       "1                              NaN                                    NaN  \n",
       "2                              NaN                                    NaN  \n",
       "3                              NaN                                    NaN  \n",
       "4                              NaN                                    NaN  \n",
       "\n",
       "[5 rows x 46 columns]"
      ]
     },
     "execution_count": 231,
     "metadata": {},
     "output_type": "execute_result"
    }
   ],
   "source": [
    "df_o.head()"
   ]
  },
  {
   "cell_type": "code",
   "execution_count": 232,
   "metadata": {},
   "outputs": [
    {
     "name": "stdout",
     "output_type": "stream",
     "text": [
      "Number of records: (773881, 46)\n"
     ]
    }
   ],
   "source": [
    "print(\"Number of records: \" + str(df_o.shape))"
   ]
  },
  {
   "cell_type": "code",
   "execution_count": 361,
   "metadata": {},
   "outputs": [],
   "source": [
    "df = df_o.copy()"
   ]
  },
  {
   "cell_type": "code",
   "execution_count": 362,
   "metadata": {},
   "outputs": [],
   "source": [
    "df = df.loc[:, ~df.columns.duplicated()]"
   ]
  },
  {
   "cell_type": "code",
   "execution_count": 363,
   "metadata": {},
   "outputs": [
    {
     "data": {
      "text/plain": [
       "array(['01  ONE FAMILY DWELLINGS                    ',\n",
       "       '02  TWO FAMILY DWELLINGS                    ',\n",
       "       '05  TAX CLASS 1 VACANT LAND                 ',\n",
       "       '06  TAX CLASS 1 - OTHER                     ',\n",
       "       '21  OFFICE BUILDINGS                        ',\n",
       "       '36  OUTDOOR RECREATIONAL FACILITIES         ',\n",
       "       '04  TAX CLASS 1 CONDOS                      ',\n",
       "       '03  THREE FAMILY DWELLINGS                  ',\n",
       "       '07  RENTALS - WALKUP APARTMENTS             ',\n",
       "       '31  COMMERCIAL VACANT LAND                  ',\n",
       "       '32  HOSPITAL AND HEALTH FACILITIES          ',\n",
       "       '10  COOPS - ELEVATOR APARTMENTS             ',\n",
       "       '13  CONDOS - ELEVATOR APARTMENTS            ',\n",
       "       '29  COMMERCIAL GARAGES                      ',\n",
       "       '39  TRANSPORTATION FACILITIES               ',\n",
       "       '41  TAX CLASS 4 - OTHER                     ',\n",
       "       '22  STORE BUILDINGS                         ',\n",
       "       '14  RENTALS - 4-10 UNIT                     ',\n",
       "       '27  FACTORIES                               ',\n",
       "       '09  COOPS - WALKUP APARTMENTS               ',\n",
       "       '12  CONDOS - WALKUP APARTMENTS              ',\n",
       "       '08  RENTALS - ELEVATOR APARTMENTS           ',\n",
       "       '43  CONDO OFFICE BUILDINGS                  ',\n",
       "       '15  CONDOS - 2-10 UNIT RESIDENTIAL          ',\n",
       "       '30  WAREHOUSES                              ',\n",
       "       '18  TAX CLASS 3 - UNTILITY PROPERTIES       ',\n",
       "       '28  COMMERCIAL CONDOS                       ',\n",
       "       '46  CONDO STORE BUILDINGS                   ',\n",
       "       '11  SPECIAL CONDO BILLING LOTS              ',\n",
       "       '33  EDUCATIONAL FACILITIES                  ',\n",
       "       '37  RELIGIOUS FACILITIES                    ',\n",
       "       '44  CONDO PARKING                           ',\n",
       "       '17  CONDO COOPS                             ',\n",
       "       '35  INDOOR PUBLIC AND CULTURAL FACILITIES   ',\n",
       "       '26  OTHER HOTELS                            ',\n",
       "       '11A CONDO-RENTALS                           ',\n",
       "       '38  ASYLUMS AND HOMES                       ',\n",
       "       '34  THEATRES                                ',\n",
       "       '40  SELECTED GOVERNMENTAL FACILITIES        ',\n",
       "       '16  CONDOS - 2-10 UNIT WITH COMMERCIAL UNIT ',\n",
       "       '42  CONDO CULTURAL/MEDICAL/EDUCATIONAL/ETC  ',\n",
       "       '47  CONDO NON-BUSINESS STORAGE              ',\n",
       "       '23  LOFT BUILDINGS                          ',\n",
       "       '48  CONDO TERRACES/GARDENS/CABANAS          ',\n",
       "       '49  CONDO WAREHOUSES/FACTORY/INDUS          ',\n",
       "       '25  LUXURY HOTELS                           ',\n",
       "       '24  TAX CLASS 4 - UTILITY BUREAU PROPERTIES ',\n",
       "       '45  CONDO HOTELS                            ', nan,\n",
       "       '01  ONE FAMILY HOMES                        ',\n",
       "       '02  TWO FAMILY HOMES                        ',\n",
       "       '03  THREE FAMILY HOMES                      ',\n",
       "       '                                            ',\n",
       "       '18  TAX CLASS 3 - UTILITY PROPERTIES        ',\n",
       "       '17  CONDOPS                                 ',\n",
       "       '01 ONE FAMILY DWELLINGS                    ',\n",
       "       '02 TWO FAMILY DWELLINGS                    ',\n",
       "       '05 TAX CLASS 1 VACANT LAND                 ',\n",
       "       '06 TAX CLASS 1 - OTHER                     ',\n",
       "       '07 RENTALS - WALKUP APARTMENTS             ',\n",
       "       '21 OFFICE BUILDINGS                        ',\n",
       "       '22 STORE BUILDINGS                         ',\n",
       "       '46 CONDO STORE BUILDINGS                   ',\n",
       "       '04 TAX CLASS 1 CONDOS                      ',\n",
       "       '14 RENTALS - 4-10 UNIT                     ',\n",
       "       '29 COMMERCIAL GARAGES                      ',\n",
       "       '03 THREE FAMILY DWELLINGS                  ',\n",
       "       '10 COOPS - ELEVATOR APARTMENTS             ',\n",
       "       '13 CONDOS - ELEVATOR APARTMENTS            ',\n",
       "       '30 WAREHOUSES                              ',\n",
       "       '31 COMMERCIAL VACANT LAND                  ',\n",
       "       '37 RELIGIOUS FACILITIES                    ',\n",
       "       '12 CONDOS - WALKUP APARTMENTS              ',\n",
       "       '09 COOPS - WALKUP APARTMENTS               ',\n",
       "       '41 TAX CLASS 4 - OTHER                     ',\n",
       "       '33 EDUCATIONAL FACILITIES                  ',\n",
       "       '08 RENTALS - ELEVATOR APARTMENTS           ',\n",
       "       '39 TRANSPORTATION FACILITIES               ',\n",
       "       '44 CONDO PARKING                           ',\n",
       "       '15 CONDOS - 2-10 UNIT RESIDENTIAL          ',\n",
       "       '16 CONDOS - 2-10 UNIT WITH COMMERCIAL UNIT ',\n",
       "       '27 FACTORIES                               ',\n",
       "       '43 CONDO OFFICE BUILDINGS                  ',\n",
       "       '34 THEATRES                                ',\n",
       "       '26 OTHER HOTELS                            ',\n",
       "       '17 CONDO COOPS                             ',\n",
       "       '32 HOSPITAL AND HEALTH FACILITIES          ',\n",
       "       '35 INDOOR PUBLIC AND CULTURAL FACILITIES   ',\n",
       "       '36 OUTDOOR RECREATIONAL FACILITIES         ',\n",
       "       '38 ASYLUMS AND HOMES                       ',\n",
       "       '40 SELECTED GOVERNMENTAL FACILITIES        ',\n",
       "       '47 CONDO NON-BUSINESS STORAGE              ',\n",
       "       '48 CONDO TERRACES/GARDENS/CABANAS          ',\n",
       "       '49 CONDO WAREHOUSES/FACTORY/INDUS          ',\n",
       "       '28 COMMERCIAL CONDOS                       ',\n",
       "       '42 CONDO CULTURAL/MEDICAL/EDUCATIONAL/ETC  ',\n",
       "       '23 LOFT BUILDINGS                          ',\n",
       "       '45 CONDO HOTELS                            ',\n",
       "       '25 LUXURY HOTELS                           ',\n",
       "       '11 SPECIAL CONDO BILLING LOTS              ',\n",
       "       '01 ONE FAMILY DWELLINGS', '02 TWO FAMILY DWELLINGS',\n",
       "       '05 TAX CLASS 1 VACANT LAND', '06 TAX CLASS 1 - OTHER',\n",
       "       '21 OFFICE BUILDINGS', '46 CONDO STORE BUILDINGS',\n",
       "       '04 TAX CLASS 1 CONDOS', '03 THREE FAMILY DWELLINGS',\n",
       "       '07 RENTALS - WALKUP APARTMENTS', '14 RENTALS - 4-10 UNIT',\n",
       "       '31 COMMERCIAL VACANT LAND', '10 COOPS - ELEVATOR APARTMENTS',\n",
       "       '13 CONDOS - ELEVATOR APARTMENTS', '30 WAREHOUSES',\n",
       "       '22 STORE BUILDINGS', '43 CONDO OFFICE BUILDINGS', '27 FACTORIES',\n",
       "       '09 COOPS - WALKUP APARTMENTS', '08 RENTALS - ELEVATOR APARTMENTS',\n",
       "       '12 CONDOS - WALKUP APARTMENTS', '29 COMMERCIAL GARAGES',\n",
       "       '33 EDUCATIONAL FACILITIES', '32 HOSPITAL AND HEALTH FACILITIES',\n",
       "       '39 TRANSPORTATION FACILITIES',\n",
       "       '15 CONDOS - 2-10 UNIT RESIDENTIAL',\n",
       "       '16 CONDOS - 2-10 UNIT WITH COMMERCIAL UNIT', '44 CONDO PARKING',\n",
       "       '41 TAX CLASS 4 - OTHER',\n",
       "       '35 INDOOR PUBLIC AND CULTURAL FACILITIES',\n",
       "       '37 RELIGIOUS FACILITIES', '38 ASYLUMS AND HOMES',\n",
       "       '28 COMMERCIAL CONDOS', '26 OTHER HOTELS',\n",
       "       '42 CONDO CULTURAL/MEDICAL/EDUCATIONAL/ETC', '11A CONDO-RENTALS',\n",
       "       '17 CONDO COOPS', '47 CONDO NON-BUSINESS STORAGE',\n",
       "       '36 OUTDOOR RECREATIONAL FACILITIES',\n",
       "       '48 CONDO TERRACES/GARDENS/CABANAS', '23 LOFT BUILDINGS',\n",
       "       '25 LUXURY HOTELS', '45 CONDO HOTELS',\n",
       "       '49 CONDO WAREHOUSES/FACTORY/INDUS', '34 THEATRES',\n",
       "       '40 SELECTED GOVERNMENTAL FACILITIES',\n",
       "       '11 SPECIAL CONDO BILLING LOTS'], dtype=object)"
      ]
     },
     "execution_count": 363,
     "metadata": {},
     "output_type": "execute_result"
    }
   ],
   "source": [
    "df[\"BUILDING CLASS CATEGORY\"].unique()"
   ]
  },
  {
   "cell_type": "markdown",
   "metadata": {},
   "source": [
    "In this analysis, we're only inspecting records of single family houses."
   ]
  },
  {
   "cell_type": "code",
   "execution_count": 364,
   "metadata": {},
   "outputs": [],
   "source": [
    "df = df[(df[\"BUILDING CLASS CATEGORY\"] == \"01  ONE FAMILY DWELLINGS                    \") \n",
    "        | (df[\"BUILDING CLASS CATEGORY\"] == \"01 ONE FAMILY DWELLINGS                    \")\n",
    "       |  (df[\"BUILDING CLASS CATEGORY\"] == \"01 ONE FAMILY DWELLINGS\")\n",
    "       |(df[\"BUILDING CLASS CATEGORY\"] == \"01  ONE FAMILY HOMES                        \")]"
   ]
  },
  {
   "cell_type": "code",
   "execution_count": 365,
   "metadata": {},
   "outputs": [
    {
     "name": "stdout",
     "output_type": "stream",
     "text": [
      "Number of records: (141123, 25)\n"
     ]
    }
   ],
   "source": [
    "print(\"Number of records: \" + str(df.shape))"
   ]
  },
  {
   "cell_type": "markdown",
   "metadata": {},
   "source": [
    "### Data Examination"
   ]
  },
  {
   "cell_type": "code",
   "execution_count": 366,
   "metadata": {},
   "outputs": [
    {
     "name": "stdout",
     "output_type": "stream",
     "text": [
      "There are 25 columns in the dataset.\n"
     ]
    }
   ],
   "source": [
    "print(\"There are \"+ str(len(df.columns)) +\" columns in the dataset.\")"
   ]
  },
  {
   "cell_type": "code",
   "execution_count": 367,
   "metadata": {},
   "outputs": [
    {
     "data": {
      "text/plain": [
       "BOROUGH                                       0\n",
       "NEIGHBORHOOD                                  0\n",
       "BUILDING CLASS CATEGORY                       0\n",
       "TAX CLASS AT PRESENT                      57983\n",
       "BLOCK                                         0\n",
       "LOT                                           0\n",
       "EASE-MENT                                 38255\n",
       "BUILDING CLASS AT PRESENT                 57983\n",
       "ADDRESS                                       0\n",
       "APARTMENT NUMBER                          38239\n",
       "ZIP CODE                                      0\n",
       "RESIDENTIAL UNITS                           149\n",
       "COMMERCIAL UNITS                            149\n",
       "TOTAL UNITS                                 149\n",
       "LAND SQUARE FEET                            149\n",
       "GROSS SQUARE FEET                           149\n",
       "YEAR BUILT                                   10\n",
       "TAX CLASS AT TIME OF SALE                     0\n",
       "BUILDING CLASS AT TIME OF SALE                0\n",
       "SALE PRICE                                    0\n",
       "SALE DATE                                     0\n",
       "TAX CLASS AS OF FINAL ROLL 17/18         121395\n",
       "BUILDING CLASS AS OF FINAL ROLL 17/18    121395\n",
       "TAX CLASS AS OF FINAL ROLL 18/19         102869\n",
       "BUILDING CLASS AS OF FINAL ROLL 18/19    102869\n",
       "dtype: int64"
      ]
     },
     "execution_count": 367,
     "metadata": {},
     "output_type": "execute_result"
    }
   ],
   "source": [
    "# inspect null values\n",
    "df.isnull().sum()"
   ]
  },
  {
   "cell_type": "code",
   "execution_count": 368,
   "metadata": {},
   "outputs": [
    {
     "name": "stdout",
     "output_type": "stream",
     "text": [
      "<class 'pandas.core.frame.DataFrame'>\n",
      "Int64Index: 141123 entries, 0 to 773546\n",
      "Data columns (total 25 columns):\n",
      " #   Column                                 Non-Null Count   Dtype         \n",
      "---  ------                                 --------------   -----         \n",
      " 0   BOROUGH                                141123 non-null  float64       \n",
      " 1   NEIGHBORHOOD                           141123 non-null  object        \n",
      " 2   BUILDING CLASS CATEGORY                141123 non-null  object        \n",
      " 3   TAX CLASS AT PRESENT                   83140 non-null   object        \n",
      " 4   BLOCK                                  141123 non-null  float64       \n",
      " 5   LOT                                    141123 non-null  float64       \n",
      " 6   EASE-MENT                              102868 non-null  object        \n",
      " 7   BUILDING CLASS AT PRESENT              83140 non-null   object        \n",
      " 8   ADDRESS                                141123 non-null  object        \n",
      " 9   APARTMENT NUMBER                       102884 non-null  object        \n",
      " 10  ZIP CODE                               141123 non-null  float64       \n",
      " 11  RESIDENTIAL UNITS                      140974 non-null  float64       \n",
      " 12  COMMERCIAL UNITS                       140974 non-null  float64       \n",
      " 13  TOTAL UNITS                            140974 non-null  float64       \n",
      " 14  LAND SQUARE FEET                       140974 non-null  float64       \n",
      " 15  GROSS SQUARE FEET                      140974 non-null  float64       \n",
      " 16  YEAR BUILT                             141113 non-null  float64       \n",
      " 17  TAX CLASS AT TIME OF SALE              141123 non-null  float64       \n",
      " 18  BUILDING CLASS AT TIME OF SALE         141123 non-null  object        \n",
      " 19  SALE PRICE                             141123 non-null  float64       \n",
      " 20  SALE DATE                              141123 non-null  datetime64[ns]\n",
      " 21  TAX CLASS AS OF FINAL ROLL 17/18       19728 non-null   object        \n",
      " 22  BUILDING CLASS AS OF FINAL ROLL 17/18  19728 non-null   object        \n",
      " 23  TAX CLASS AS OF FINAL ROLL 18/19       38254 non-null   object        \n",
      " 24  BUILDING CLASS AS OF FINAL ROLL 18/19  38254 non-null   object        \n",
      "dtypes: datetime64[ns](1), float64(12), object(12)\n",
      "memory usage: 28.0+ MB\n"
     ]
    }
   ],
   "source": [
    "# inspect data types\n",
    "df.info()"
   ]
  },
  {
   "cell_type": "code",
   "execution_count": 369,
   "metadata": {},
   "outputs": [],
   "source": [
    "df = df.dropna(subset=['GROSS SQUARE FEET'])"
   ]
  },
  {
   "cell_type": "markdown",
   "metadata": {},
   "source": [
    "I made all neighborhood names lower case and stripped extra white space."
   ]
  },
  {
   "cell_type": "code",
   "execution_count": 370,
   "metadata": {},
   "outputs": [],
   "source": [
    "df[\"NEIGHBORHOOD\"] = df[\"NEIGHBORHOOD\"].apply(lambda x: x.lower())\n",
    "df[\"NEIGHBORHOOD\"] = df[\"NEIGHBORHOOD\"].apply(lambda x: x.rstrip(' '))"
   ]
  },
  {
   "cell_type": "markdown",
   "metadata": {},
   "source": [
    "Remove outliers:"
   ]
  },
  {
   "cell_type": "code",
   "execution_count": 371,
   "metadata": {},
   "outputs": [],
   "source": [
    "def rmOutliers(df, column):\n",
    "    Q1 = df[column].quantile(0.25)\n",
    "    Q3 = df[column].quantile(0.75)\n",
    "    IQR = Q3 - Q1\n",
    "    print(IQR)\n",
    "    df_out = df[~((df[[column]] < (Q1 - 1.5 * IQR)) |(df[[column]] > (Q3 + 1.5 * IQR))).any(axis=1)]\n",
    "    print(df_out.shape)\n",
    "    return df_out"
   ]
  },
  {
   "cell_type": "code",
   "execution_count": 372,
   "metadata": {},
   "outputs": [
    {
     "name": "stdout",
     "output_type": "stream",
     "text": [
      "575000.0\n",
      "(137250, 25)\n",
      "636.0\n",
      "(129539, 25)\n"
     ]
    }
   ],
   "source": [
    "df = rmOutliers(df, \"SALE PRICE\")\n",
    "df = rmOutliers(df, \"GROSS SQUARE FEET\")"
   ]
  },
  {
   "cell_type": "code",
   "execution_count": 373,
   "metadata": {
    "scrolled": true
   },
   "outputs": [
    {
     "data": {
      "text/html": [
       "<div>\n",
       "<style scoped>\n",
       "    .dataframe tbody tr th:only-of-type {\n",
       "        vertical-align: middle;\n",
       "    }\n",
       "\n",
       "    .dataframe tbody tr th {\n",
       "        vertical-align: top;\n",
       "    }\n",
       "\n",
       "    .dataframe thead th {\n",
       "        text-align: right;\n",
       "    }\n",
       "</style>\n",
       "<table border=\"1\" class=\"dataframe\">\n",
       "  <thead>\n",
       "    <tr style=\"text-align: right;\">\n",
       "      <th></th>\n",
       "      <th>BOROUGH</th>\n",
       "      <th>BLOCK</th>\n",
       "      <th>LOT</th>\n",
       "      <th>ZIP CODE</th>\n",
       "      <th>RESIDENTIAL UNITS</th>\n",
       "      <th>COMMERCIAL UNITS</th>\n",
       "      <th>TOTAL UNITS</th>\n",
       "      <th>LAND SQUARE FEET</th>\n",
       "      <th>GROSS SQUARE FEET</th>\n",
       "      <th>YEAR BUILT</th>\n",
       "      <th>TAX CLASS AT TIME OF SALE</th>\n",
       "      <th>SALE PRICE</th>\n",
       "    </tr>\n",
       "  </thead>\n",
       "  <tbody>\n",
       "    <tr>\n",
       "      <th>count</th>\n",
       "      <td>129539.000000</td>\n",
       "      <td>129539.000000</td>\n",
       "      <td>129539.000000</td>\n",
       "      <td>129539.000000</td>\n",
       "      <td>129539.000000</td>\n",
       "      <td>129539.000000</td>\n",
       "      <td>129539.000000</td>\n",
       "      <td>129539.000000</td>\n",
       "      <td>129539.000000</td>\n",
       "      <td>129539.000000</td>\n",
       "      <td>129539.0</td>\n",
       "      <td>1.295390e+05</td>\n",
       "    </tr>\n",
       "    <tr>\n",
       "      <th>mean</th>\n",
       "      <td>3.933302</td>\n",
       "      <td>6535.170914</td>\n",
       "      <td>69.473425</td>\n",
       "      <td>11015.412779</td>\n",
       "      <td>1.002771</td>\n",
       "      <td>0.018435</td>\n",
       "      <td>1.021013</td>\n",
       "      <td>3143.461699</td>\n",
       "      <td>1493.027984</td>\n",
       "      <td>1942.880800</td>\n",
       "      <td>1.0</td>\n",
       "      <td>3.440311e+05</td>\n",
       "    </tr>\n",
       "    <tr>\n",
       "      <th>std</th>\n",
       "      <td>0.851509</td>\n",
       "      <td>3744.313532</td>\n",
       "      <td>134.067439</td>\n",
       "      <td>497.413550</td>\n",
       "      <td>0.165545</td>\n",
       "      <td>0.138030</td>\n",
       "      <td>0.214837</td>\n",
       "      <td>1905.285921</td>\n",
       "      <td>437.157624</td>\n",
       "      <td>45.798284</td>\n",
       "      <td>0.0</td>\n",
       "      <td>3.117632e+05</td>\n",
       "    </tr>\n",
       "    <tr>\n",
       "      <th>min</th>\n",
       "      <td>1.000000</td>\n",
       "      <td>15.000000</td>\n",
       "      <td>1.000000</td>\n",
       "      <td>0.000000</td>\n",
       "      <td>0.000000</td>\n",
       "      <td>0.000000</td>\n",
       "      <td>1.000000</td>\n",
       "      <td>200.000000</td>\n",
       "      <td>240.000000</td>\n",
       "      <td>0.000000</td>\n",
       "      <td>1.0</td>\n",
       "      <td>0.000000e+00</td>\n",
       "    </tr>\n",
       "    <tr>\n",
       "      <th>25%</th>\n",
       "      <td>3.000000</td>\n",
       "      <td>3814.000000</td>\n",
       "      <td>21.000000</td>\n",
       "      <td>10314.000000</td>\n",
       "      <td>1.000000</td>\n",
       "      <td>0.000000</td>\n",
       "      <td>1.000000</td>\n",
       "      <td>2000.000000</td>\n",
       "      <td>1188.000000</td>\n",
       "      <td>1925.000000</td>\n",
       "      <td>1.0</td>\n",
       "      <td>0.000000e+00</td>\n",
       "    </tr>\n",
       "    <tr>\n",
       "      <th>50%</th>\n",
       "      <td>4.000000</td>\n",
       "      <td>6019.000000</td>\n",
       "      <td>41.000000</td>\n",
       "      <td>11234.000000</td>\n",
       "      <td>1.000000</td>\n",
       "      <td>0.000000</td>\n",
       "      <td>1.000000</td>\n",
       "      <td>2600.000000</td>\n",
       "      <td>1411.000000</td>\n",
       "      <td>1940.000000</td>\n",
       "      <td>1.0</td>\n",
       "      <td>3.551000e+05</td>\n",
       "    </tr>\n",
       "    <tr>\n",
       "      <th>75%</th>\n",
       "      <td>5.000000</td>\n",
       "      <td>8885.000000</td>\n",
       "      <td>69.000000</td>\n",
       "      <td>11412.000000</td>\n",
       "      <td>1.000000</td>\n",
       "      <td>0.000000</td>\n",
       "      <td>1.000000</td>\n",
       "      <td>4000.000000</td>\n",
       "      <td>1760.000000</td>\n",
       "      <td>1955.000000</td>\n",
       "      <td>1.0</td>\n",
       "      <td>5.500000e+05</td>\n",
       "    </tr>\n",
       "    <tr>\n",
       "      <th>max</th>\n",
       "      <td>5.000000</td>\n",
       "      <td>16323.000000</td>\n",
       "      <td>4105.000000</td>\n",
       "      <td>11694.000000</td>\n",
       "      <td>57.000000</td>\n",
       "      <td>2.000000</td>\n",
       "      <td>57.000000</td>\n",
       "      <td>163800.000000</td>\n",
       "      <td>2784.000000</td>\n",
       "      <td>2019.000000</td>\n",
       "      <td>1.0</td>\n",
       "      <td>1.435000e+06</td>\n",
       "    </tr>\n",
       "  </tbody>\n",
       "</table>\n",
       "</div>"
      ],
      "text/plain": [
       "             BOROUGH          BLOCK            LOT       ZIP CODE  \\\n",
       "count  129539.000000  129539.000000  129539.000000  129539.000000   \n",
       "mean        3.933302    6535.170914      69.473425   11015.412779   \n",
       "std         0.851509    3744.313532     134.067439     497.413550   \n",
       "min         1.000000      15.000000       1.000000       0.000000   \n",
       "25%         3.000000    3814.000000      21.000000   10314.000000   \n",
       "50%         4.000000    6019.000000      41.000000   11234.000000   \n",
       "75%         5.000000    8885.000000      69.000000   11412.000000   \n",
       "max         5.000000   16323.000000    4105.000000   11694.000000   \n",
       "\n",
       "       RESIDENTIAL UNITS  COMMERCIAL UNITS    TOTAL UNITS  LAND SQUARE FEET  \\\n",
       "count      129539.000000     129539.000000  129539.000000     129539.000000   \n",
       "mean            1.002771          0.018435       1.021013       3143.461699   \n",
       "std             0.165545          0.138030       0.214837       1905.285921   \n",
       "min             0.000000          0.000000       1.000000        200.000000   \n",
       "25%             1.000000          0.000000       1.000000       2000.000000   \n",
       "50%             1.000000          0.000000       1.000000       2600.000000   \n",
       "75%             1.000000          0.000000       1.000000       4000.000000   \n",
       "max            57.000000          2.000000      57.000000     163800.000000   \n",
       "\n",
       "       GROSS SQUARE FEET     YEAR BUILT  TAX CLASS AT TIME OF SALE  \\\n",
       "count      129539.000000  129539.000000                   129539.0   \n",
       "mean         1493.027984    1942.880800                        1.0   \n",
       "std           437.157624      45.798284                        0.0   \n",
       "min           240.000000       0.000000                        1.0   \n",
       "25%          1188.000000    1925.000000                        1.0   \n",
       "50%          1411.000000    1940.000000                        1.0   \n",
       "75%          1760.000000    1955.000000                        1.0   \n",
       "max          2784.000000    2019.000000                        1.0   \n",
       "\n",
       "         SALE PRICE  \n",
       "count  1.295390e+05  \n",
       "mean   3.440311e+05  \n",
       "std    3.117632e+05  \n",
       "min    0.000000e+00  \n",
       "25%    0.000000e+00  \n",
       "50%    3.551000e+05  \n",
       "75%    5.500000e+05  \n",
       "max    1.435000e+06  "
      ]
     },
     "execution_count": 373,
     "metadata": {},
     "output_type": "execute_result"
    }
   ],
   "source": [
    "df.describe()"
   ]
  },
  {
   "cell_type": "markdown",
   "metadata": {},
   "source": [
    "To lesson impacts by other factors, I decided to focus on houses between 2,000 sqft and 1,000."
   ]
  },
  {
   "cell_type": "code",
   "execution_count": 374,
   "metadata": {},
   "outputs": [],
   "source": [
    "df = df[(df[\"GROSS SQUARE FEET\"] <= 2000) & (df[\"GROSS SQUARE FEET\"] >= 1000)]"
   ]
  },
  {
   "cell_type": "code",
   "execution_count": 375,
   "metadata": {},
   "outputs": [
    {
     "data": {
      "text/plain": [
       "(98771, 25)"
      ]
     },
     "execution_count": 375,
     "metadata": {},
     "output_type": "execute_result"
    }
   ],
   "source": [
    "df.shape"
   ]
  },
  {
   "cell_type": "markdown",
   "metadata": {},
   "source": [
    "The top neighborhoods that have the most postings:"
   ]
  },
  {
   "cell_type": "code",
   "execution_count": 376,
   "metadata": {
    "scrolled": true
   },
   "outputs": [
    {
     "data": {
      "text/plain": [
       "flushing-north           4391\n",
       "queens village           2949\n",
       "st. albans               2898\n",
       "great kills              2777\n",
       "bayside                  2546\n",
       "                         ... \n",
       "soho                        1\n",
       "prospect heights            1\n",
       "southbridge                 1\n",
       "downtown-fulton ferry       1\n",
       "alphabet city               1\n",
       "Name: NEIGHBORHOOD, Length: 221, dtype: int64"
      ]
     },
     "execution_count": 376,
     "metadata": {},
     "output_type": "execute_result"
    }
   ],
   "source": [
    "df.NEIGHBORHOOD.value_counts()"
   ]
  },
  {
   "cell_type": "code",
   "execution_count": 377,
   "metadata": {},
   "outputs": [
    {
     "name": "stdout",
     "output_type": "stream",
     "text": [
      "Mean price of houses: 342423.32966154034\n"
     ]
    }
   ],
   "source": [
    "print(\"Mean price of houses: \" + str(df[\"SALE PRICE\"].mean()))"
   ]
  },
  {
   "cell_type": "markdown",
   "metadata": {},
   "source": [
    "<!-- Average Price and size are a lot higher than median rent and size, indicating that these columns have some outliers. -->"
   ]
  },
  {
   "cell_type": "markdown",
   "metadata": {},
   "source": [
    "### Areas with large Chinese-American populations"
   ]
  },
  {
   "cell_type": "markdown",
   "metadata": {},
   "source": [
    "The three largest Chinatowns in NYC lie in Brooklyn, Manhattan and Queens. To examine whether houses related to auspicious and inauspicious numbers have higher or lower property values, I wanted to pay close attention to areas with significant Chinese-American populations.\n",
    "\n",
    "I downloaded the demographic dataset from NYC department of city planning."
   ]
  },
  {
   "cell_type": "code",
   "execution_count": 378,
   "metadata": {},
   "outputs": [],
   "source": [
    "# data source: https://www1.nyc.gov/site/planning/planning-level/nyc-population/american-community-survey.page\n",
    "nydemo = pd.read_csv(\"nyneighborhood-demo.csv\")"
   ]
  },
  {
   "cell_type": "code",
   "execution_count": 379,
   "metadata": {
    "scrolled": true
   },
   "outputs": [
    {
     "data": {
      "text/html": [
       "<div>\n",
       "<style scoped>\n",
       "    .dataframe tbody tr th:only-of-type {\n",
       "        vertical-align: middle;\n",
       "    }\n",
       "\n",
       "    .dataframe tbody tr th {\n",
       "        vertical-align: top;\n",
       "    }\n",
       "\n",
       "    .dataframe thead th {\n",
       "        text-align: right;\n",
       "    }\n",
       "</style>\n",
       "<table border=\"1\" class=\"dataframe\">\n",
       "  <thead>\n",
       "    <tr style=\"text-align: right;\">\n",
       "      <th></th>\n",
       "      <th>GeogName</th>\n",
       "      <th>Borough</th>\n",
       "      <th>AsnChiNoTE</th>\n",
       "      <th>AsnChiNoTM</th>\n",
       "      <th>AsnChiNoTC</th>\n",
       "      <th>AsnChiNoTP</th>\n",
       "      <th>AsnChiNoTZ</th>\n",
       "    </tr>\n",
       "  </thead>\n",
       "  <tbody>\n",
       "    <tr>\n",
       "      <th>0</th>\n",
       "      <td>Allerton-Pelham Gardens</td>\n",
       "      <td>Bronx</td>\n",
       "      <td>444</td>\n",
       "      <td>230</td>\n",
       "      <td>31.5</td>\n",
       "      <td>13.8</td>\n",
       "      <td>6.7</td>\n",
       "    </tr>\n",
       "    <tr>\n",
       "      <th>1</th>\n",
       "      <td>Bedford Park-Fordham North</td>\n",
       "      <td>Bronx</td>\n",
       "      <td>157</td>\n",
       "      <td>123</td>\n",
       "      <td>47.6</td>\n",
       "      <td>6.8</td>\n",
       "      <td>5.1</td>\n",
       "    </tr>\n",
       "    <tr>\n",
       "      <th>2</th>\n",
       "      <td>Belmont</td>\n",
       "      <td>Bronx</td>\n",
       "      <td>97</td>\n",
       "      <td>62</td>\n",
       "      <td>38.8</td>\n",
       "      <td>14.3</td>\n",
       "      <td>7.9</td>\n",
       "    </tr>\n",
       "    <tr>\n",
       "      <th>3</th>\n",
       "      <td>Bronxdale</td>\n",
       "      <td>Bronx</td>\n",
       "      <td>128</td>\n",
       "      <td>107</td>\n",
       "      <td>50.8</td>\n",
       "      <td>10.5</td>\n",
       "      <td>8.2</td>\n",
       "    </tr>\n",
       "    <tr>\n",
       "      <th>4</th>\n",
       "      <td>Claremont-Bathgate</td>\n",
       "      <td>Bronx</td>\n",
       "      <td>0</td>\n",
       "      <td>NaN</td>\n",
       "      <td>NaN</td>\n",
       "      <td>NaN</td>\n",
       "      <td>NaN</td>\n",
       "    </tr>\n",
       "  </tbody>\n",
       "</table>\n",
       "</div>"
      ],
      "text/plain": [
       "                     GeogName Borough AsnChiNoTE AsnChiNoTM  AsnChiNoTC  \\\n",
       "0     Allerton-Pelham Gardens   Bronx        444        230        31.5   \n",
       "1  Bedford Park-Fordham North   Bronx        157        123        47.6   \n",
       "2                     Belmont   Bronx         97         62        38.8   \n",
       "3                   Bronxdale   Bronx        128        107        50.8   \n",
       "4          Claremont-Bathgate   Bronx          0        NaN         NaN   \n",
       "\n",
       "   AsnChiNoTP  AsnChiNoTZ  \n",
       "0        13.8         6.7  \n",
       "1         6.8         5.1  \n",
       "2        14.3         7.9  \n",
       "3        10.5         8.2  \n",
       "4         NaN         NaN  "
      ]
     },
     "execution_count": 379,
     "metadata": {},
     "output_type": "execute_result"
    }
   ],
   "source": [
    "nydemo.head()"
   ]
  },
  {
   "cell_type": "code",
   "execution_count": 380,
   "metadata": {},
   "outputs": [],
   "source": [
    "# lowercase\n",
    "nydemo[\"GeogName\"] = nydemo[\"GeogName\"].apply(lambda x: x.lower())"
   ]
  },
  {
   "cell_type": "code",
   "execution_count": 381,
   "metadata": {},
   "outputs": [],
   "source": [
    "# I focus on the column indicating percentage of Chinese population\n",
    "sortedNydemo = nydemo.sort_values(by=[\"AsnChiNoTP\"], ascending=False).reset_index(drop=True)"
   ]
  },
  {
   "cell_type": "code",
   "execution_count": 382,
   "metadata": {},
   "outputs": [],
   "source": [
    "sortedNydemo = sortedNydemo[[\"GeogName\", \"Borough\", \"AsnChiNoTP\"]]"
   ]
  },
  {
   "cell_type": "markdown",
   "metadata": {},
   "source": [
    "Before merging the two datasets together, I have to align the naming of the neighborhoods."
   ]
  },
  {
   "cell_type": "code",
   "execution_count": 383,
   "metadata": {},
   "outputs": [],
   "source": [
    "for i in df.NEIGHBORHOOD.unique():\n",
    "    if i.split()[:3] == \"upper east side\":\n",
    "        df.NEIGHBORHOOD = df.NEIGHBORHOOD.replace(i, \"upper east side\")\n",
    "    elif i.split()[:3] == \"upper west side\":\n",
    "        df.NEIGHBORHOOD = df.NEIGHBORHOOD.replace(i, \"upper west side\")\n",
    "    elif i == \"flatiron\":\n",
    "        df.NEIGHBORHOOD = df.NEIGHBORHOOD.replace(i, 'hudson yards-chelsea-flat iron-union square')\n",
    "    for j in nydemo.GeogName.unique():\n",
    "        if i in j:\n",
    "            df.NEIGHBORHOOD = df.NEIGHBORHOOD.replace(i, j)\n",
    "        elif j in i:\n",
    "            df.NEIGHBORHOOD = df.NEIGHBORHOOD.replace(i, j)\n",
    "        elif i.split()[0] in j:\n",
    "            df.NEIGHBORHOOD = df.NEIGHBORHOOD.replace(i, j)\n",
    "        elif i.split(\"/\")[0] in j:\n",
    "            df.NEIGHBORHOOD = df.NEIGHBORHOOD.replace(i, j)\n",
    "        elif i.split(\"-\")[0] in j:\n",
    "            df.NEIGHBORHOOD = df.NEIGHBORHOOD.replace(i, j)"
   ]
  },
  {
   "cell_type": "markdown",
   "metadata": {},
   "source": [
    "Neighborhood names that are not included in the demographic dataset from NYC department of city planning."
   ]
  },
  {
   "cell_type": "code",
   "execution_count": 384,
   "metadata": {},
   "outputs": [
    {
     "name": "stdout",
     "output_type": "stream",
     "text": [
      "['bulls head', 'castleton corners', 'clove lakes', 'concord', 'concord-fox hills', 'grant city', 'livingston', 'mariners harbor', 'pleasant plains', 'princes bay', 'richmondtown', 'richmondtown-lighths hill', 'tompkinsville', 'willowbrook', 'navy yard', 'wyckoff heights', 'greenwich village-central', 'greenwich village-west', 'beechhurst', 'neponsit', 'southbridge', 'alphabet city']\n"
     ]
    }
   ],
   "source": [
    "ls = []\n",
    "for i in df.NEIGHBORHOOD.unique():\n",
    "    if i not in nydemo.GeogName.unique():\n",
    "        ls.append(i)\n",
    "print(ls)"
   ]
  },
  {
   "cell_type": "markdown",
   "metadata": {},
   "source": [
    "Merge the two datasets so we can have percentage of Chinese population in the housing dataset."
   ]
  },
  {
   "cell_type": "code",
   "execution_count": 385,
   "metadata": {},
   "outputs": [],
   "source": [
    "merged = pd.merge(df, nydemo,  how='inner', left_on=['NEIGHBORHOOD'], right_on = ['GeogName'])"
   ]
  },
  {
   "cell_type": "code",
   "execution_count": 386,
   "metadata": {},
   "outputs": [
    {
     "data": {
      "text/plain": [
       "(93213, 32)"
      ]
     },
     "execution_count": 386,
     "metadata": {},
     "output_type": "execute_result"
    }
   ],
   "source": [
    "merged.shape"
   ]
  },
  {
   "cell_type": "code",
   "execution_count": 387,
   "metadata": {},
   "outputs": [
    {
     "data": {
      "text/plain": [
       "east flushing                        6659\n",
       "fordham south                        4995\n",
       "crotona park east                    3889\n",
       "great kills                          3034\n",
       "park-cemetery-etc-queens             2949\n",
       "                                     ... \n",
       "fort greene                             3\n",
       "hunts point                             2\n",
       "battery park city-lower manhattan       2\n",
       "upper east side-carnegie hill           1\n",
       "prospect lefferts gardens-wingate       1\n",
       "Name: NEIGHBORHOOD, Length: 115, dtype: int64"
      ]
     },
     "execution_count": 387,
     "metadata": {},
     "output_type": "execute_result"
    }
   ],
   "source": [
    "merged.NEIGHBORHOOD.value_counts()"
   ]
  },
  {
   "cell_type": "code",
   "execution_count": 388,
   "metadata": {},
   "outputs": [],
   "source": [
    "sortedMerged = merged.sort_values(by = [\"AsnChiNoTP\"], ascending=False).reset_index(drop=True)"
   ]
  },
  {
   "cell_type": "markdown",
   "metadata": {},
   "source": [
    "### Find out address ending number"
   ]
  },
  {
   "cell_type": "code",
   "execution_count": 389,
   "metadata": {},
   "outputs": [],
   "source": [
    "def endingNumAndPrice(df):\n",
    "    df[\"addr_number\"] = df.ADDRESS.apply(lambda x: x.split(\" \")[0])\n",
    "    \n",
    "    #Address number that ends with four:\n",
    "    df[\"addrnum_end_four\"] = df.addr_number.str[-1]==\"4\"\n",
    "    \n",
    "    #Address number that ends without four:\n",
    "    df[\"addrnum_end_withoutFour\"] = df.addr_number.str[-1]!=\"4\"\n",
    "    \n",
    "    #Address number that ends with eight:\n",
    "    df[\"addrnum_end_eight\"] = df.addr_number.str[-1]==\"8\"\n",
    "    \n",
    "    #Address number that ends without eight:\n",
    "    df[\"addrnum_end_withoutEight\"] = df.addr_number.str[-1]!=\"8\"\n",
    "    \n",
    "    total = df.shape[0]\n",
    "    aptWithFour = df[df[\"addrnum_end_four\"]==True]\n",
    "    aptWithEight = df[df[\"addrnum_end_eight\"]==True]\n",
    "    aptWithoutFour = df[df[\"addrnum_end_withoutFour\"]==True]\n",
    "    aptWithoutEight = df[df[\"addrnum_end_withoutEight\"]==True]\n",
    "    wFourP = round(aptWithFour.shape[0] / total, 2)\n",
    "    wEightP = round(aptWithEight.shape[0] / total, 2)\n",
    "    withoutFourP = round(aptWithoutFour.shape[0] / total, 2)\n",
    "    withoutEightP = round(aptWithoutEight.shape[0] / total, 2)\n",
    "    \n",
    "    print(\"Houses with address number that ends with four has \" + str(aptWithFour.shape[0]) + \" observations, making up \" + str(wFourP) + \" of the total observations.\")\n",
    "    print(\"Houses with address number that ends without four has \" + str(aptWithoutFour.shape[0]) + \" observations, making up \" + str(withoutFourP) + \" of the total observations.\")\n",
    "    print(\"Houses with address number that ends with Eight has \" + str(aptWithEight.shape[0]) + \" observations, making up \"+ str(wEightP) + \" of the total observations.\")\n",
    "    print(\"Houses with address number that ends without Eight has \" + str(aptWithoutEight.shape[0]) + \" observations, making up \"+ str(withoutEightP) + \" of the total observations.\")\n",
    "\n",
    "    print(\"Mean price of all apt: \"+ str(round(df[\"SALE PRICE\"].mean())))\n",
    "    print(\"Mean price of apt address num ending with four: \"+ str(round(aptWithFour[\"SALE PRICE\"].mean())))\n",
    "    print(\"Mean price of apt address num ending without four: \"+ str(round(aptWithoutFour[\"SALE PRICE\"].mean())))\n",
    "    print(\"Mean price of apt address num ending with eight: \"+ str(round(aptWithEight[\"SALE PRICE\"].mean())))\n",
    "    print(\"Mean price of apt address num ending without eight: \"+ str(round(aptWithoutEight[\"SALE PRICE\"].mean())))\n",
    "    return df"
   ]
  },
  {
   "cell_type": "code",
   "execution_count": 390,
   "metadata": {},
   "outputs": [
    {
     "name": "stdout",
     "output_type": "stream",
     "text": [
      "Houses with address number that ends with four has 9558 observations, making up 0.1 of the total observations.\n",
      "Houses with address number that ends without four has 83655 observations, making up 0.9 of the total observations.\n",
      "Houses with address number that ends with Eight has 8884 observations, making up 0.1 of the total observations.\n",
      "Houses with address number that ends without Eight has 84329 observations, making up 0.9 of the total observations.\n",
      "Mean price of all apt: 343948\n",
      "Mean price of apt address num ending with four: 340928\n",
      "Mean price of apt address num ending without four: 344294\n",
      "Mean price of apt address num ending with eight: 341844\n",
      "Mean price of apt address num ending without eight: 344170\n"
     ]
    }
   ],
   "source": [
    "sortedMerged = endingNumAndPrice(sortedMerged)"
   ]
  },
  {
   "cell_type": "markdown",
   "metadata": {},
   "source": [
    "Drop rows with no address number:"
   ]
  },
  {
   "cell_type": "code",
   "execution_count": 391,
   "metadata": {},
   "outputs": [],
   "source": [
    "noNan = sortedMerged.dropna(subset=['addr_number'])"
   ]
  },
  {
   "cell_type": "markdown",
   "metadata": {},
   "source": [
    "Create a function to calculate the ratio between the avg price of houses with address number ending in 4 and that ending without 4."
   ]
  },
  {
   "cell_type": "code",
   "execution_count": 392,
   "metadata": {},
   "outputs": [],
   "source": [
    "def comparePrice(df, column, number):\n",
    "    grouped = df.groupby([\"NEIGHBORHOOD\", column])\n",
    "    moreThan10 = grouped.filter(lambda x: x[\"BOROUGH\"].count() >= number) \n",
    "    moreThan10Mean = moreThan10.groupby([\"NEIGHBORHOOD\", column]).mean()\n",
    "    moreThan10MeanDf = moreThan10Mean.add_suffix('_Mean').reset_index()\n",
    "    moreThan10MeanDf[\"ratio\"] = moreThan10MeanDf.groupby(\"NEIGHBORHOOD\")[\"SALE PRICE_Mean\"].apply(lambda x: x/x.shift(1))\n",
    "    moreThan10MeanDfVariance = moreThan10MeanDf[moreThan10MeanDf[column]==True]\n",
    "    return moreThan10MeanDfVariance"
   ]
  },
  {
   "cell_type": "code",
   "execution_count": 393,
   "metadata": {},
   "outputs": [],
   "source": [
    "four = comparePrice(noNan, \"addrnum_end_four\", 10) # select neighborhoods that have at least 10 sales records"
   ]
  },
  {
   "cell_type": "markdown",
   "metadata": {},
   "source": [
    "Each dot represents one neighborhood. The x axis indicates the percentage of Chinese population and the y axis represents the ratio of dividing the avg price of condos with address number ending in 4 by that of houses with address number ending without 4."
   ]
  },
  {
   "cell_type": "code",
   "execution_count": 394,
   "metadata": {},
   "outputs": [
    {
     "data": {
      "application/vnd.plotly.v1+json": {
       "config": {
        "plotlyServerURL": "https://plot.ly"
       },
       "data": [
        {
         "customdata": [
          [
           "allerton-pelham gardens"
          ],
          [
           "annadale-huguenot-prince's bay-eltingville"
          ],
          [
           "baisley park"
          ],
          [
           "bayside-bayside hills"
          ],
          [
           "bedford park-fordham north"
          ],
          [
           "bellerose"
          ],
          [
           "bensonhurst east"
          ],
          [
           "borough park"
          ],
          [
           "breezy point-belle harbor-rockaway park-broad channel"
          ],
          [
           "briarwood-jamaica hills"
          ],
          [
           "bronxdale"
          ],
          [
           "brownsville"
          ],
          [
           "bushwick north"
          ],
          [
           "cambria heights"
          ],
          [
           "canarsie"
          ],
          [
           "charleston-richmond valley-tottenville"
          ],
          [
           "college point"
          ],
          [
           "crotona park east"
          ],
          [
           "crown heights north"
          ],
          [
           "cypress hills-city line"
          ],
          [
           "douglas manor-douglaston-little neck"
          ],
          [
           "dyker heights"
          ],
          [
           "east concourse-concourse village"
          ],
          [
           "east elmhurst"
          ],
          [
           "east flatbush-farragut"
          ],
          [
           "east flushing"
          ],
          [
           "eastchester-edenwald-baychester"
          ],
          [
           "elmhurst-maspeth"
          ],
          [
           "flatlands"
          ],
          [
           "fordham south"
          ],
          [
           "forest hills"
          ],
          [
           "fresh meadows-utopia"
          ],
          [
           "georgetown-marine park-bergen beach-mill basin"
          ],
          [
           "glen oaks-floral park-new hyde park"
          ],
          [
           "glendale"
          ],
          [
           "grasmere-arrochar-ft. wadsworth"
          ],
          [
           "gravesend"
          ],
          [
           "great kills"
          ],
          [
           "grymes hill-clifton-fox hills"
          ],
          [
           "hammels-arverne-edgemere"
          ],
          [
           "hollis"
          ],
          [
           "hunters point-sunnyside-west maspeth"
          ],
          [
           "jackson heights"
          ],
          [
           "jamaica estates-holliswood"
          ],
          [
           "kensington-ocean parkway"
          ],
          [
           "kew gardens hills"
          ],
          [
           "kingsbridge heights"
          ],
          [
           "laurelton"
          ],
          [
           "lindenwood-howard beach"
          ],
          [
           "longwood"
          ],
          [
           "madison"
          ],
          [
           "melrose south-mott haven north"
          ],
          [
           "middle village"
          ],
          [
           "midwood"
          ],
          [
           "morrisania-melrose"
          ],
          [
           "mott haven-port morris"
          ],
          [
           "new brighton-silver lake"
          ],
          [
           "new dorp-midland beach"
          ],
          [
           "new springville-bloomfield-travis"
          ],
          [
           "north corona"
          ],
          [
           "north riverdale-fieldston-riverdale"
          ],
          [
           "oakland gardens"
          ],
          [
           "oakwood-oakwood beach"
          ],
          [
           "old astoria"
          ],
          [
           "old town-dongan hills-south beach"
          ],
          [
           "park-cemetery-etc-queens"
          ],
          [
           "pelham bay-country club-city island"
          ],
          [
           "pomonok-flushing heights-hillcrest"
          ],
          [
           "rego park"
          ],
          [
           "ridgewood"
          ],
          [
           "rosedale"
          ],
          [
           "rossville-woodrow"
          ],
          [
           "schuylerville-throgs neck-edgewater park"
          ],
          [
           "seagate-coney island"
          ],
          [
           "sheepshead bay-gerritsen beach-manhattan beach"
          ],
          [
           "soho-tribeca-civic center-little italy"
          ],
          [
           "soundview-bruckner"
          ],
          [
           "soundview-castle hill-clason point-harding park"
          ],
          [
           "springfield gardens north"
          ],
          [
           "stapleton-rosebank"
          ],
          [
           "van nest-morris park-westchester square"
          ],
          [
           "west farms-bronx river"
          ],
          [
           "west new brighton-new brighton-st. george"
          ],
          [
           "westerleigh"
          ],
          [
           "whitestone"
          ],
          [
           "williamsbridge-olinville"
          ],
          [
           "woodhaven"
          ],
          [
           "woodlawn-wakefield"
          ],
          [
           "woodside"
          ]
         ],
         "hovertemplate": "% of Chinese population by neighborhood=%{x}<br>Ratio  by neighborhood=%{y}<br>NEIGHBORHOOD=%{customdata[0]}<extra></extra>",
         "legendgroup": "",
         "marker": {
          "color": "#636efa",
          "symbol": "circle"
         },
         "mode": "markers",
         "name": "",
         "orientation": "v",
         "showlegend": false,
         "type": "scatter",
         "x": [
          13.80000000000002,
          61.89999999999976,
          3.7999999999999896,
          58.200000000000315,
          6.800000000000005,
          14.70000000000003,
          84.30000000000008,
          71.89999999999999,
          13.5,
          10.400000000000013,
          10.5,
          23.59999999999999,
          43.199999999999996,
          35.19999999999992,
          54.9,
          37,
          59.5,
          42.89999999999975,
          24.9,
          29.70000000000002,
          58.600000000000044,
          87.60000000000007,
          16.699999999999996,
          22.099999999999977,
          12.30000000000006,
          65.59999999999914,
          10.29999999999997,
          49.800000000000054,
          12.800000000000004,
          16.100000000000136,
          54,
          48.5,
          55.39999999999983,
          7.7999999999999785,
          35.69999999999998,
          54.80000000000002,
          76.30000000000008,
          59.60000000000024,
          48.800000000000004,
          31.799999999999994,
          1.100000000000001,
          28.899999999999984,
          27.09999999999995,
          7.700000000000022,
          19.79999999999997,
          59.1,
          10.5,
          5.100000000000013,
          33.09999999999995,
          81,
          76.89999999999986,
          18.9,
          64.70000000000007,
          31.5,
          16.60000000000001,
          24.099999999999973,
          30.7,
          53.30000000000008,
          29.700000000000017,
          69,
          29.200000000000003,
          61.900000000000055,
          78.4,
          13.700000000000031,
          62.40000000000005,
          null,
          12.3,
          65.40000000000003,
          47,
          56.100000000000016,
          44.30000000000011,
          45.6,
          30.199999999999946,
          70.30000000000005,
          73.3999999999998,
          71.8000000000001,
          13.300000000000008,
          28.199999999999992,
          null,
          59.39999999999987,
          12,
          2.6999999999999984,
          26.899999999999846,
          28.59999999999996,
          63.300000000000125,
          7.100000000000001,
          29.40000000000006,
          3.9000000000000035,
          26.70000000000001
         ],
         "xaxis": "x",
         "y": [
          1.0189366445103134,
          0.8830235025377566,
          0.9108945719939066,
          1.008229955604747,
          0.9318922777927146,
          0.9588924994200532,
          0.9668608249322919,
          0.8257498322852158,
          0.8360599379415851,
          1.0103896403950454,
          1.0378439290689425,
          1.1646557736085696,
          1.4097256253794166,
          1.0213258146478643,
          0.9593644897963941,
          0.9647716860191036,
          0.8975067212512056,
          0.967858737635544,
          1.1500614323259946,
          1.3314761977225709,
          1.0080209001516018,
          0.9961586298507041,
          1.1001479560952947,
          1.0224704315371407,
          1.0167615461148654,
          1.0033176933686274,
          1.0472066170887306,
          0.9699665949869689,
          1.0763448578221015,
          0.9433245625606874,
          1.0605653658814802,
          1.0221871254047115,
          1.0463055290215555,
          1.0984624320842942,
          1.0537820759880665,
          1.0442388061537686,
          0.8657501634669215,
          0.9638089571663436,
          0.5978969562945025,
          0.821339063035396,
          0.8706350571297569,
          0.8882985010271438,
          0.9272747124090202,
          0.996188750228728,
          0.870147653335902,
          1.0187440790256672,
          1.1747955554410718,
          0.8478697111406467,
          1.1519994103628954,
          1.0077108647007562,
          1.2396056747024027,
          0.9545775123903639,
          1.0090218140577174,
          0.9772458810556249,
          0.8043546700128145,
          0.8526070792905253,
          1.073616815792103,
          1.0007063816041826,
          0.8514243565419366,
          1.0495205210314258,
          0.9041512408076139,
          1.131757124677884,
          1.0089041805710546,
          0.9237181352718921,
          1.0283070439367143,
          0.9312712371929242,
          0.8735435072314909,
          0.7359902312843968,
          1.1242543753768066,
          1.017385414598724,
          1.0733345169059714,
          0.8571897028325658,
          1.0246107346163038,
          1.078005677453524,
          0.916499145966325,
          0.8883648238279849,
          1.3473282377418363,
          1.1632310908515975,
          0.8902988091287232,
          1.08941678975599,
          1.084212678586508,
          0.8021599709913574,
          0.995749424324151,
          0.9725414439475897,
          0.9446197335301252,
          1.0117681467944608,
          0.947588974629463,
          1.0260295700657858,
          0.9821485468143332
         ],
         "yaxis": "y"
        }
       ],
       "layout": {
        "legend": {
         "tracegroupgap": 0
        },
        "template": {
         "data": {
          "bar": [
           {
            "error_x": {
             "color": "#2a3f5f"
            },
            "error_y": {
             "color": "#2a3f5f"
            },
            "marker": {
             "line": {
              "color": "#E5ECF6",
              "width": 0.5
             }
            },
            "type": "bar"
           }
          ],
          "barpolar": [
           {
            "marker": {
             "line": {
              "color": "#E5ECF6",
              "width": 0.5
             }
            },
            "type": "barpolar"
           }
          ],
          "carpet": [
           {
            "aaxis": {
             "endlinecolor": "#2a3f5f",
             "gridcolor": "white",
             "linecolor": "white",
             "minorgridcolor": "white",
             "startlinecolor": "#2a3f5f"
            },
            "baxis": {
             "endlinecolor": "#2a3f5f",
             "gridcolor": "white",
             "linecolor": "white",
             "minorgridcolor": "white",
             "startlinecolor": "#2a3f5f"
            },
            "type": "carpet"
           }
          ],
          "choropleth": [
           {
            "colorbar": {
             "outlinewidth": 0,
             "ticks": ""
            },
            "type": "choropleth"
           }
          ],
          "contour": [
           {
            "colorbar": {
             "outlinewidth": 0,
             "ticks": ""
            },
            "colorscale": [
             [
              0,
              "#0d0887"
             ],
             [
              0.1111111111111111,
              "#46039f"
             ],
             [
              0.2222222222222222,
              "#7201a8"
             ],
             [
              0.3333333333333333,
              "#9c179e"
             ],
             [
              0.4444444444444444,
              "#bd3786"
             ],
             [
              0.5555555555555556,
              "#d8576b"
             ],
             [
              0.6666666666666666,
              "#ed7953"
             ],
             [
              0.7777777777777778,
              "#fb9f3a"
             ],
             [
              0.8888888888888888,
              "#fdca26"
             ],
             [
              1,
              "#f0f921"
             ]
            ],
            "type": "contour"
           }
          ],
          "contourcarpet": [
           {
            "colorbar": {
             "outlinewidth": 0,
             "ticks": ""
            },
            "type": "contourcarpet"
           }
          ],
          "heatmap": [
           {
            "colorbar": {
             "outlinewidth": 0,
             "ticks": ""
            },
            "colorscale": [
             [
              0,
              "#0d0887"
             ],
             [
              0.1111111111111111,
              "#46039f"
             ],
             [
              0.2222222222222222,
              "#7201a8"
             ],
             [
              0.3333333333333333,
              "#9c179e"
             ],
             [
              0.4444444444444444,
              "#bd3786"
             ],
             [
              0.5555555555555556,
              "#d8576b"
             ],
             [
              0.6666666666666666,
              "#ed7953"
             ],
             [
              0.7777777777777778,
              "#fb9f3a"
             ],
             [
              0.8888888888888888,
              "#fdca26"
             ],
             [
              1,
              "#f0f921"
             ]
            ],
            "type": "heatmap"
           }
          ],
          "heatmapgl": [
           {
            "colorbar": {
             "outlinewidth": 0,
             "ticks": ""
            },
            "colorscale": [
             [
              0,
              "#0d0887"
             ],
             [
              0.1111111111111111,
              "#46039f"
             ],
             [
              0.2222222222222222,
              "#7201a8"
             ],
             [
              0.3333333333333333,
              "#9c179e"
             ],
             [
              0.4444444444444444,
              "#bd3786"
             ],
             [
              0.5555555555555556,
              "#d8576b"
             ],
             [
              0.6666666666666666,
              "#ed7953"
             ],
             [
              0.7777777777777778,
              "#fb9f3a"
             ],
             [
              0.8888888888888888,
              "#fdca26"
             ],
             [
              1,
              "#f0f921"
             ]
            ],
            "type": "heatmapgl"
           }
          ],
          "histogram": [
           {
            "marker": {
             "colorbar": {
              "outlinewidth": 0,
              "ticks": ""
             }
            },
            "type": "histogram"
           }
          ],
          "histogram2d": [
           {
            "colorbar": {
             "outlinewidth": 0,
             "ticks": ""
            },
            "colorscale": [
             [
              0,
              "#0d0887"
             ],
             [
              0.1111111111111111,
              "#46039f"
             ],
             [
              0.2222222222222222,
              "#7201a8"
             ],
             [
              0.3333333333333333,
              "#9c179e"
             ],
             [
              0.4444444444444444,
              "#bd3786"
             ],
             [
              0.5555555555555556,
              "#d8576b"
             ],
             [
              0.6666666666666666,
              "#ed7953"
             ],
             [
              0.7777777777777778,
              "#fb9f3a"
             ],
             [
              0.8888888888888888,
              "#fdca26"
             ],
             [
              1,
              "#f0f921"
             ]
            ],
            "type": "histogram2d"
           }
          ],
          "histogram2dcontour": [
           {
            "colorbar": {
             "outlinewidth": 0,
             "ticks": ""
            },
            "colorscale": [
             [
              0,
              "#0d0887"
             ],
             [
              0.1111111111111111,
              "#46039f"
             ],
             [
              0.2222222222222222,
              "#7201a8"
             ],
             [
              0.3333333333333333,
              "#9c179e"
             ],
             [
              0.4444444444444444,
              "#bd3786"
             ],
             [
              0.5555555555555556,
              "#d8576b"
             ],
             [
              0.6666666666666666,
              "#ed7953"
             ],
             [
              0.7777777777777778,
              "#fb9f3a"
             ],
             [
              0.8888888888888888,
              "#fdca26"
             ],
             [
              1,
              "#f0f921"
             ]
            ],
            "type": "histogram2dcontour"
           }
          ],
          "mesh3d": [
           {
            "colorbar": {
             "outlinewidth": 0,
             "ticks": ""
            },
            "type": "mesh3d"
           }
          ],
          "parcoords": [
           {
            "line": {
             "colorbar": {
              "outlinewidth": 0,
              "ticks": ""
             }
            },
            "type": "parcoords"
           }
          ],
          "pie": [
           {
            "automargin": true,
            "type": "pie"
           }
          ],
          "scatter": [
           {
            "marker": {
             "colorbar": {
              "outlinewidth": 0,
              "ticks": ""
             }
            },
            "type": "scatter"
           }
          ],
          "scatter3d": [
           {
            "line": {
             "colorbar": {
              "outlinewidth": 0,
              "ticks": ""
             }
            },
            "marker": {
             "colorbar": {
              "outlinewidth": 0,
              "ticks": ""
             }
            },
            "type": "scatter3d"
           }
          ],
          "scattercarpet": [
           {
            "marker": {
             "colorbar": {
              "outlinewidth": 0,
              "ticks": ""
             }
            },
            "type": "scattercarpet"
           }
          ],
          "scattergeo": [
           {
            "marker": {
             "colorbar": {
              "outlinewidth": 0,
              "ticks": ""
             }
            },
            "type": "scattergeo"
           }
          ],
          "scattergl": [
           {
            "marker": {
             "colorbar": {
              "outlinewidth": 0,
              "ticks": ""
             }
            },
            "type": "scattergl"
           }
          ],
          "scattermapbox": [
           {
            "marker": {
             "colorbar": {
              "outlinewidth": 0,
              "ticks": ""
             }
            },
            "type": "scattermapbox"
           }
          ],
          "scatterpolar": [
           {
            "marker": {
             "colorbar": {
              "outlinewidth": 0,
              "ticks": ""
             }
            },
            "type": "scatterpolar"
           }
          ],
          "scatterpolargl": [
           {
            "marker": {
             "colorbar": {
              "outlinewidth": 0,
              "ticks": ""
             }
            },
            "type": "scatterpolargl"
           }
          ],
          "scatterternary": [
           {
            "marker": {
             "colorbar": {
              "outlinewidth": 0,
              "ticks": ""
             }
            },
            "type": "scatterternary"
           }
          ],
          "surface": [
           {
            "colorbar": {
             "outlinewidth": 0,
             "ticks": ""
            },
            "colorscale": [
             [
              0,
              "#0d0887"
             ],
             [
              0.1111111111111111,
              "#46039f"
             ],
             [
              0.2222222222222222,
              "#7201a8"
             ],
             [
              0.3333333333333333,
              "#9c179e"
             ],
             [
              0.4444444444444444,
              "#bd3786"
             ],
             [
              0.5555555555555556,
              "#d8576b"
             ],
             [
              0.6666666666666666,
              "#ed7953"
             ],
             [
              0.7777777777777778,
              "#fb9f3a"
             ],
             [
              0.8888888888888888,
              "#fdca26"
             ],
             [
              1,
              "#f0f921"
             ]
            ],
            "type": "surface"
           }
          ],
          "table": [
           {
            "cells": {
             "fill": {
              "color": "#EBF0F8"
             },
             "line": {
              "color": "white"
             }
            },
            "header": {
             "fill": {
              "color": "#C8D4E3"
             },
             "line": {
              "color": "white"
             }
            },
            "type": "table"
           }
          ]
         },
         "layout": {
          "annotationdefaults": {
           "arrowcolor": "#2a3f5f",
           "arrowhead": 0,
           "arrowwidth": 1
          },
          "coloraxis": {
           "colorbar": {
            "outlinewidth": 0,
            "ticks": ""
           }
          },
          "colorscale": {
           "diverging": [
            [
             0,
             "#8e0152"
            ],
            [
             0.1,
             "#c51b7d"
            ],
            [
             0.2,
             "#de77ae"
            ],
            [
             0.3,
             "#f1b6da"
            ],
            [
             0.4,
             "#fde0ef"
            ],
            [
             0.5,
             "#f7f7f7"
            ],
            [
             0.6,
             "#e6f5d0"
            ],
            [
             0.7,
             "#b8e186"
            ],
            [
             0.8,
             "#7fbc41"
            ],
            [
             0.9,
             "#4d9221"
            ],
            [
             1,
             "#276419"
            ]
           ],
           "sequential": [
            [
             0,
             "#0d0887"
            ],
            [
             0.1111111111111111,
             "#46039f"
            ],
            [
             0.2222222222222222,
             "#7201a8"
            ],
            [
             0.3333333333333333,
             "#9c179e"
            ],
            [
             0.4444444444444444,
             "#bd3786"
            ],
            [
             0.5555555555555556,
             "#d8576b"
            ],
            [
             0.6666666666666666,
             "#ed7953"
            ],
            [
             0.7777777777777778,
             "#fb9f3a"
            ],
            [
             0.8888888888888888,
             "#fdca26"
            ],
            [
             1,
             "#f0f921"
            ]
           ],
           "sequentialminus": [
            [
             0,
             "#0d0887"
            ],
            [
             0.1111111111111111,
             "#46039f"
            ],
            [
             0.2222222222222222,
             "#7201a8"
            ],
            [
             0.3333333333333333,
             "#9c179e"
            ],
            [
             0.4444444444444444,
             "#bd3786"
            ],
            [
             0.5555555555555556,
             "#d8576b"
            ],
            [
             0.6666666666666666,
             "#ed7953"
            ],
            [
             0.7777777777777778,
             "#fb9f3a"
            ],
            [
             0.8888888888888888,
             "#fdca26"
            ],
            [
             1,
             "#f0f921"
            ]
           ]
          },
          "colorway": [
           "#636efa",
           "#EF553B",
           "#00cc96",
           "#ab63fa",
           "#FFA15A",
           "#19d3f3",
           "#FF6692",
           "#B6E880",
           "#FF97FF",
           "#FECB52"
          ],
          "font": {
           "color": "#2a3f5f"
          },
          "geo": {
           "bgcolor": "white",
           "lakecolor": "white",
           "landcolor": "#E5ECF6",
           "showlakes": true,
           "showland": true,
           "subunitcolor": "white"
          },
          "hoverlabel": {
           "align": "left"
          },
          "hovermode": "closest",
          "mapbox": {
           "style": "light"
          },
          "paper_bgcolor": "white",
          "plot_bgcolor": "#E5ECF6",
          "polar": {
           "angularaxis": {
            "gridcolor": "white",
            "linecolor": "white",
            "ticks": ""
           },
           "bgcolor": "#E5ECF6",
           "radialaxis": {
            "gridcolor": "white",
            "linecolor": "white",
            "ticks": ""
           }
          },
          "scene": {
           "xaxis": {
            "backgroundcolor": "#E5ECF6",
            "gridcolor": "white",
            "gridwidth": 2,
            "linecolor": "white",
            "showbackground": true,
            "ticks": "",
            "zerolinecolor": "white"
           },
           "yaxis": {
            "backgroundcolor": "#E5ECF6",
            "gridcolor": "white",
            "gridwidth": 2,
            "linecolor": "white",
            "showbackground": true,
            "ticks": "",
            "zerolinecolor": "white"
           },
           "zaxis": {
            "backgroundcolor": "#E5ECF6",
            "gridcolor": "white",
            "gridwidth": 2,
            "linecolor": "white",
            "showbackground": true,
            "ticks": "",
            "zerolinecolor": "white"
           }
          },
          "shapedefaults": {
           "line": {
            "color": "#2a3f5f"
           }
          },
          "ternary": {
           "aaxis": {
            "gridcolor": "white",
            "linecolor": "white",
            "ticks": ""
           },
           "baxis": {
            "gridcolor": "white",
            "linecolor": "white",
            "ticks": ""
           },
           "bgcolor": "#E5ECF6",
           "caxis": {
            "gridcolor": "white",
            "linecolor": "white",
            "ticks": ""
           }
          },
          "title": {
           "x": 0.05
          },
          "xaxis": {
           "automargin": true,
           "gridcolor": "white",
           "linecolor": "white",
           "ticks": "",
           "title": {
            "standoff": 15
           },
           "zerolinecolor": "white",
           "zerolinewidth": 2
          },
          "yaxis": {
           "automargin": true,
           "gridcolor": "white",
           "linecolor": "white",
           "ticks": "",
           "title": {
            "standoff": 15
           },
           "zerolinecolor": "white",
           "zerolinewidth": 2
          }
         }
        },
        "title": {
         "text": "Relationship between % of Chinese population and avg price ratio of houses(with and without four)"
        },
        "xaxis": {
         "anchor": "y",
         "domain": [
          0,
          1
         ],
         "title": {
          "text": "% of Chinese population by neighborhood"
         }
        },
        "yaxis": {
         "anchor": "x",
         "domain": [
          0,
          1
         ],
         "title": {
          "text": "Ratio  by neighborhood"
         }
        }
       }
      },
      "text/html": [
       "<div>\n",
       "        \n",
       "        \n",
       "            <div id=\"e5117528-ebf1-4f52-b684-3d69f2c90318\" class=\"plotly-graph-div\" style=\"height:525px; width:100%;\"></div>\n",
       "            <script type=\"text/javascript\">\n",
       "                require([\"plotly\"], function(Plotly) {\n",
       "                    window.PLOTLYENV=window.PLOTLYENV || {};\n",
       "                    \n",
       "                if (document.getElementById(\"e5117528-ebf1-4f52-b684-3d69f2c90318\")) {\n",
       "                    Plotly.newPlot(\n",
       "                        'e5117528-ebf1-4f52-b684-3d69f2c90318',\n",
       "                        [{\"customdata\": [[\"allerton-pelham gardens\"], [\"annadale-huguenot-prince's bay-eltingville\"], [\"baisley park\"], [\"bayside-bayside hills\"], [\"bedford park-fordham north\"], [\"bellerose\"], [\"bensonhurst east\"], [\"borough park\"], [\"breezy point-belle harbor-rockaway park-broad channel\"], [\"briarwood-jamaica hills\"], [\"bronxdale\"], [\"brownsville\"], [\"bushwick north\"], [\"cambria heights\"], [\"canarsie\"], [\"charleston-richmond valley-tottenville\"], [\"college point\"], [\"crotona park east\"], [\"crown heights north\"], [\"cypress hills-city line\"], [\"douglas manor-douglaston-little neck\"], [\"dyker heights\"], [\"east concourse-concourse village\"], [\"east elmhurst\"], [\"east flatbush-farragut\"], [\"east flushing\"], [\"eastchester-edenwald-baychester\"], [\"elmhurst-maspeth\"], [\"flatlands\"], [\"fordham south\"], [\"forest hills\"], [\"fresh meadows-utopia\"], [\"georgetown-marine park-bergen beach-mill basin\"], [\"glen oaks-floral park-new hyde park\"], [\"glendale\"], [\"grasmere-arrochar-ft. wadsworth\"], [\"gravesend\"], [\"great kills\"], [\"grymes hill-clifton-fox hills\"], [\"hammels-arverne-edgemere\"], [\"hollis\"], [\"hunters point-sunnyside-west maspeth\"], [\"jackson heights\"], [\"jamaica estates-holliswood\"], [\"kensington-ocean parkway\"], [\"kew gardens hills\"], [\"kingsbridge heights\"], [\"laurelton\"], [\"lindenwood-howard beach\"], [\"longwood\"], [\"madison\"], [\"melrose south-mott haven north\"], [\"middle village\"], [\"midwood\"], [\"morrisania-melrose\"], [\"mott haven-port morris\"], [\"new brighton-silver lake\"], [\"new dorp-midland beach\"], [\"new springville-bloomfield-travis\"], [\"north corona\"], [\"north riverdale-fieldston-riverdale\"], [\"oakland gardens\"], [\"oakwood-oakwood beach\"], [\"old astoria\"], [\"old town-dongan hills-south beach\"], [\"park-cemetery-etc-queens\"], [\"pelham bay-country club-city island\"], [\"pomonok-flushing heights-hillcrest\"], [\"rego park\"], [\"ridgewood\"], [\"rosedale\"], [\"rossville-woodrow\"], [\"schuylerville-throgs neck-edgewater park\"], [\"seagate-coney island\"], [\"sheepshead bay-gerritsen beach-manhattan beach\"], [\"soho-tribeca-civic center-little italy\"], [\"soundview-bruckner\"], [\"soundview-castle hill-clason point-harding park\"], [\"springfield gardens north\"], [\"stapleton-rosebank\"], [\"van nest-morris park-westchester square\"], [\"west farms-bronx river\"], [\"west new brighton-new brighton-st. george\"], [\"westerleigh\"], [\"whitestone\"], [\"williamsbridge-olinville\"], [\"woodhaven\"], [\"woodlawn-wakefield\"], [\"woodside\"]], \"hovertemplate\": \"% of Chinese population by neighborhood=%{x}<br>Ratio  by neighborhood=%{y}<br>NEIGHBORHOOD=%{customdata[0]}<extra></extra>\", \"legendgroup\": \"\", \"marker\": {\"color\": \"#636efa\", \"symbol\": \"circle\"}, \"mode\": \"markers\", \"name\": \"\", \"orientation\": \"v\", \"showlegend\": false, \"type\": \"scatter\", \"x\": [13.80000000000002, 61.89999999999976, 3.7999999999999896, 58.200000000000315, 6.800000000000005, 14.70000000000003, 84.30000000000008, 71.89999999999999, 13.5, 10.400000000000013, 10.5, 23.59999999999999, 43.199999999999996, 35.19999999999992, 54.9, 37.0, 59.5, 42.89999999999975, 24.9, 29.70000000000002, 58.600000000000044, 87.60000000000007, 16.699999999999996, 22.099999999999977, 12.30000000000006, 65.59999999999914, 10.29999999999997, 49.800000000000054, 12.800000000000004, 16.100000000000136, 54.0, 48.5, 55.39999999999983, 7.7999999999999785, 35.69999999999998, 54.80000000000002, 76.30000000000008, 59.60000000000024, 48.800000000000004, 31.799999999999994, 1.100000000000001, 28.899999999999984, 27.09999999999995, 7.700000000000022, 19.79999999999997, 59.1, 10.5, 5.100000000000013, 33.09999999999995, 81.0, 76.89999999999986, 18.9, 64.70000000000007, 31.5, 16.60000000000001, 24.099999999999973, 30.7, 53.30000000000008, 29.700000000000017, 69.0, 29.200000000000003, 61.900000000000055, 78.4, 13.700000000000031, 62.40000000000005, null, 12.3, 65.40000000000003, 47.0, 56.100000000000016, 44.30000000000011, 45.6, 30.199999999999946, 70.30000000000005, 73.3999999999998, 71.8000000000001, 13.300000000000008, 28.199999999999992, null, 59.39999999999987, 12.0, 2.6999999999999984, 26.899999999999846, 28.59999999999996, 63.300000000000125, 7.100000000000001, 29.40000000000006, 3.9000000000000035, 26.70000000000001], \"xaxis\": \"x\", \"y\": [1.0189366445103134, 0.8830235025377566, 0.9108945719939066, 1.008229955604747, 0.9318922777927146, 0.9588924994200532, 0.9668608249322919, 0.8257498322852158, 0.8360599379415851, 1.0103896403950454, 1.0378439290689425, 1.1646557736085696, 1.4097256253794166, 1.0213258146478643, 0.9593644897963941, 0.9647716860191036, 0.8975067212512056, 0.967858737635544, 1.1500614323259946, 1.3314761977225709, 1.0080209001516018, 0.9961586298507041, 1.1001479560952947, 1.0224704315371407, 1.0167615461148654, 1.0033176933686274, 1.0472066170887306, 0.9699665949869689, 1.0763448578221015, 0.9433245625606874, 1.0605653658814802, 1.0221871254047115, 1.0463055290215555, 1.0984624320842942, 1.0537820759880665, 1.0442388061537686, 0.8657501634669215, 0.9638089571663436, 0.5978969562945025, 0.821339063035396, 0.8706350571297569, 0.8882985010271438, 0.9272747124090202, 0.996188750228728, 0.870147653335902, 1.0187440790256672, 1.1747955554410718, 0.8478697111406467, 1.1519994103628954, 1.0077108647007562, 1.2396056747024027, 0.9545775123903639, 1.0090218140577174, 0.9772458810556249, 0.8043546700128145, 0.8526070792905253, 1.073616815792103, 1.0007063816041826, 0.8514243565419366, 1.0495205210314258, 0.9041512408076139, 1.131757124677884, 1.0089041805710546, 0.9237181352718921, 1.0283070439367143, 0.9312712371929242, 0.8735435072314909, 0.7359902312843968, 1.1242543753768066, 1.017385414598724, 1.0733345169059714, 0.8571897028325658, 1.0246107346163038, 1.078005677453524, 0.916499145966325, 0.8883648238279849, 1.3473282377418363, 1.1632310908515975, 0.8902988091287232, 1.08941678975599, 1.084212678586508, 0.8021599709913574, 0.995749424324151, 0.9725414439475897, 0.9446197335301252, 1.0117681467944608, 0.947588974629463, 1.0260295700657858, 0.9821485468143332], \"yaxis\": \"y\"}],\n",
       "                        {\"legend\": {\"tracegroupgap\": 0}, \"template\": {\"data\": {\"bar\": [{\"error_x\": {\"color\": \"#2a3f5f\"}, \"error_y\": {\"color\": \"#2a3f5f\"}, \"marker\": {\"line\": {\"color\": \"#E5ECF6\", \"width\": 0.5}}, \"type\": \"bar\"}], \"barpolar\": [{\"marker\": {\"line\": {\"color\": \"#E5ECF6\", \"width\": 0.5}}, \"type\": \"barpolar\"}], \"carpet\": [{\"aaxis\": {\"endlinecolor\": \"#2a3f5f\", \"gridcolor\": \"white\", \"linecolor\": \"white\", \"minorgridcolor\": \"white\", \"startlinecolor\": \"#2a3f5f\"}, \"baxis\": {\"endlinecolor\": \"#2a3f5f\", \"gridcolor\": \"white\", \"linecolor\": \"white\", \"minorgridcolor\": \"white\", \"startlinecolor\": \"#2a3f5f\"}, \"type\": \"carpet\"}], \"choropleth\": [{\"colorbar\": {\"outlinewidth\": 0, \"ticks\": \"\"}, \"type\": \"choropleth\"}], \"contour\": [{\"colorbar\": {\"outlinewidth\": 0, \"ticks\": \"\"}, \"colorscale\": [[0.0, \"#0d0887\"], [0.1111111111111111, \"#46039f\"], [0.2222222222222222, \"#7201a8\"], [0.3333333333333333, \"#9c179e\"], [0.4444444444444444, \"#bd3786\"], [0.5555555555555556, \"#d8576b\"], [0.6666666666666666, \"#ed7953\"], [0.7777777777777778, \"#fb9f3a\"], [0.8888888888888888, \"#fdca26\"], [1.0, \"#f0f921\"]], \"type\": \"contour\"}], \"contourcarpet\": [{\"colorbar\": {\"outlinewidth\": 0, \"ticks\": \"\"}, \"type\": \"contourcarpet\"}], \"heatmap\": [{\"colorbar\": {\"outlinewidth\": 0, \"ticks\": \"\"}, \"colorscale\": [[0.0, \"#0d0887\"], [0.1111111111111111, \"#46039f\"], [0.2222222222222222, \"#7201a8\"], [0.3333333333333333, \"#9c179e\"], [0.4444444444444444, \"#bd3786\"], [0.5555555555555556, \"#d8576b\"], [0.6666666666666666, \"#ed7953\"], [0.7777777777777778, \"#fb9f3a\"], [0.8888888888888888, \"#fdca26\"], [1.0, \"#f0f921\"]], \"type\": \"heatmap\"}], \"heatmapgl\": [{\"colorbar\": {\"outlinewidth\": 0, \"ticks\": \"\"}, \"colorscale\": [[0.0, \"#0d0887\"], [0.1111111111111111, \"#46039f\"], [0.2222222222222222, \"#7201a8\"], [0.3333333333333333, \"#9c179e\"], [0.4444444444444444, \"#bd3786\"], [0.5555555555555556, \"#d8576b\"], [0.6666666666666666, \"#ed7953\"], [0.7777777777777778, \"#fb9f3a\"], [0.8888888888888888, \"#fdca26\"], [1.0, \"#f0f921\"]], \"type\": \"heatmapgl\"}], \"histogram\": [{\"marker\": {\"colorbar\": {\"outlinewidth\": 0, \"ticks\": \"\"}}, \"type\": \"histogram\"}], \"histogram2d\": [{\"colorbar\": {\"outlinewidth\": 0, \"ticks\": \"\"}, \"colorscale\": [[0.0, \"#0d0887\"], [0.1111111111111111, \"#46039f\"], [0.2222222222222222, \"#7201a8\"], [0.3333333333333333, \"#9c179e\"], [0.4444444444444444, \"#bd3786\"], [0.5555555555555556, \"#d8576b\"], [0.6666666666666666, \"#ed7953\"], [0.7777777777777778, \"#fb9f3a\"], [0.8888888888888888, \"#fdca26\"], [1.0, \"#f0f921\"]], \"type\": \"histogram2d\"}], \"histogram2dcontour\": [{\"colorbar\": {\"outlinewidth\": 0, \"ticks\": \"\"}, \"colorscale\": [[0.0, \"#0d0887\"], [0.1111111111111111, \"#46039f\"], [0.2222222222222222, \"#7201a8\"], [0.3333333333333333, \"#9c179e\"], [0.4444444444444444, \"#bd3786\"], [0.5555555555555556, \"#d8576b\"], [0.6666666666666666, \"#ed7953\"], [0.7777777777777778, \"#fb9f3a\"], [0.8888888888888888, \"#fdca26\"], [1.0, \"#f0f921\"]], \"type\": \"histogram2dcontour\"}], \"mesh3d\": [{\"colorbar\": {\"outlinewidth\": 0, \"ticks\": \"\"}, \"type\": \"mesh3d\"}], \"parcoords\": [{\"line\": {\"colorbar\": {\"outlinewidth\": 0, \"ticks\": \"\"}}, \"type\": \"parcoords\"}], \"pie\": [{\"automargin\": true, \"type\": \"pie\"}], \"scatter\": [{\"marker\": {\"colorbar\": {\"outlinewidth\": 0, \"ticks\": \"\"}}, \"type\": \"scatter\"}], \"scatter3d\": [{\"line\": {\"colorbar\": {\"outlinewidth\": 0, \"ticks\": \"\"}}, \"marker\": {\"colorbar\": {\"outlinewidth\": 0, \"ticks\": \"\"}}, \"type\": \"scatter3d\"}], \"scattercarpet\": [{\"marker\": {\"colorbar\": {\"outlinewidth\": 0, \"ticks\": \"\"}}, \"type\": \"scattercarpet\"}], \"scattergeo\": [{\"marker\": {\"colorbar\": {\"outlinewidth\": 0, \"ticks\": \"\"}}, \"type\": \"scattergeo\"}], \"scattergl\": [{\"marker\": {\"colorbar\": {\"outlinewidth\": 0, \"ticks\": \"\"}}, \"type\": \"scattergl\"}], \"scattermapbox\": [{\"marker\": {\"colorbar\": {\"outlinewidth\": 0, \"ticks\": \"\"}}, \"type\": \"scattermapbox\"}], \"scatterpolar\": [{\"marker\": {\"colorbar\": {\"outlinewidth\": 0, \"ticks\": \"\"}}, \"type\": \"scatterpolar\"}], \"scatterpolargl\": [{\"marker\": {\"colorbar\": {\"outlinewidth\": 0, \"ticks\": \"\"}}, \"type\": \"scatterpolargl\"}], \"scatterternary\": [{\"marker\": {\"colorbar\": {\"outlinewidth\": 0, \"ticks\": \"\"}}, \"type\": \"scatterternary\"}], \"surface\": [{\"colorbar\": {\"outlinewidth\": 0, \"ticks\": \"\"}, \"colorscale\": [[0.0, \"#0d0887\"], [0.1111111111111111, \"#46039f\"], [0.2222222222222222, \"#7201a8\"], [0.3333333333333333, \"#9c179e\"], [0.4444444444444444, \"#bd3786\"], [0.5555555555555556, \"#d8576b\"], [0.6666666666666666, \"#ed7953\"], [0.7777777777777778, \"#fb9f3a\"], [0.8888888888888888, \"#fdca26\"], [1.0, \"#f0f921\"]], \"type\": \"surface\"}], \"table\": [{\"cells\": {\"fill\": {\"color\": \"#EBF0F8\"}, \"line\": {\"color\": \"white\"}}, \"header\": {\"fill\": {\"color\": \"#C8D4E3\"}, \"line\": {\"color\": \"white\"}}, \"type\": \"table\"}]}, \"layout\": {\"annotationdefaults\": {\"arrowcolor\": \"#2a3f5f\", \"arrowhead\": 0, \"arrowwidth\": 1}, \"coloraxis\": {\"colorbar\": {\"outlinewidth\": 0, \"ticks\": \"\"}}, \"colorscale\": {\"diverging\": [[0, \"#8e0152\"], [0.1, \"#c51b7d\"], [0.2, \"#de77ae\"], [0.3, \"#f1b6da\"], [0.4, \"#fde0ef\"], [0.5, \"#f7f7f7\"], [0.6, \"#e6f5d0\"], [0.7, \"#b8e186\"], [0.8, \"#7fbc41\"], [0.9, \"#4d9221\"], [1, \"#276419\"]], \"sequential\": [[0.0, \"#0d0887\"], [0.1111111111111111, \"#46039f\"], [0.2222222222222222, \"#7201a8\"], [0.3333333333333333, \"#9c179e\"], [0.4444444444444444, \"#bd3786\"], [0.5555555555555556, \"#d8576b\"], [0.6666666666666666, \"#ed7953\"], [0.7777777777777778, \"#fb9f3a\"], [0.8888888888888888, \"#fdca26\"], [1.0, \"#f0f921\"]], \"sequentialminus\": [[0.0, \"#0d0887\"], [0.1111111111111111, \"#46039f\"], [0.2222222222222222, \"#7201a8\"], [0.3333333333333333, \"#9c179e\"], [0.4444444444444444, \"#bd3786\"], [0.5555555555555556, \"#d8576b\"], [0.6666666666666666, \"#ed7953\"], [0.7777777777777778, \"#fb9f3a\"], [0.8888888888888888, \"#fdca26\"], [1.0, \"#f0f921\"]]}, \"colorway\": [\"#636efa\", \"#EF553B\", \"#00cc96\", \"#ab63fa\", \"#FFA15A\", \"#19d3f3\", \"#FF6692\", \"#B6E880\", \"#FF97FF\", \"#FECB52\"], \"font\": {\"color\": \"#2a3f5f\"}, \"geo\": {\"bgcolor\": \"white\", \"lakecolor\": \"white\", \"landcolor\": \"#E5ECF6\", \"showlakes\": true, \"showland\": true, \"subunitcolor\": \"white\"}, \"hoverlabel\": {\"align\": \"left\"}, \"hovermode\": \"closest\", \"mapbox\": {\"style\": \"light\"}, \"paper_bgcolor\": \"white\", \"plot_bgcolor\": \"#E5ECF6\", \"polar\": {\"angularaxis\": {\"gridcolor\": \"white\", \"linecolor\": \"white\", \"ticks\": \"\"}, \"bgcolor\": \"#E5ECF6\", \"radialaxis\": {\"gridcolor\": \"white\", \"linecolor\": \"white\", \"ticks\": \"\"}}, \"scene\": {\"xaxis\": {\"backgroundcolor\": \"#E5ECF6\", \"gridcolor\": \"white\", \"gridwidth\": 2, \"linecolor\": \"white\", \"showbackground\": true, \"ticks\": \"\", \"zerolinecolor\": \"white\"}, \"yaxis\": {\"backgroundcolor\": \"#E5ECF6\", \"gridcolor\": \"white\", \"gridwidth\": 2, \"linecolor\": \"white\", \"showbackground\": true, \"ticks\": \"\", \"zerolinecolor\": \"white\"}, \"zaxis\": {\"backgroundcolor\": \"#E5ECF6\", \"gridcolor\": \"white\", \"gridwidth\": 2, \"linecolor\": \"white\", \"showbackground\": true, \"ticks\": \"\", \"zerolinecolor\": \"white\"}}, \"shapedefaults\": {\"line\": {\"color\": \"#2a3f5f\"}}, \"ternary\": {\"aaxis\": {\"gridcolor\": \"white\", \"linecolor\": \"white\", \"ticks\": \"\"}, \"baxis\": {\"gridcolor\": \"white\", \"linecolor\": \"white\", \"ticks\": \"\"}, \"bgcolor\": \"#E5ECF6\", \"caxis\": {\"gridcolor\": \"white\", \"linecolor\": \"white\", \"ticks\": \"\"}}, \"title\": {\"x\": 0.05}, \"xaxis\": {\"automargin\": true, \"gridcolor\": \"white\", \"linecolor\": \"white\", \"ticks\": \"\", \"title\": {\"standoff\": 15}, \"zerolinecolor\": \"white\", \"zerolinewidth\": 2}, \"yaxis\": {\"automargin\": true, \"gridcolor\": \"white\", \"linecolor\": \"white\", \"ticks\": \"\", \"title\": {\"standoff\": 15}, \"zerolinecolor\": \"white\", \"zerolinewidth\": 2}}}, \"title\": {\"text\": \"Relationship between % of Chinese population and avg price ratio of houses(with and without four)\"}, \"xaxis\": {\"anchor\": \"y\", \"domain\": [0.0, 1.0], \"title\": {\"text\": \"% of Chinese population by neighborhood\"}}, \"yaxis\": {\"anchor\": \"x\", \"domain\": [0.0, 1.0], \"title\": {\"text\": \"Ratio  by neighborhood\"}}},\n",
       "                        {\"responsive\": true}\n",
       "                    ).then(function(){\n",
       "                            \n",
       "var gd = document.getElementById('e5117528-ebf1-4f52-b684-3d69f2c90318');\n",
       "var x = new MutationObserver(function (mutations, observer) {{\n",
       "        var display = window.getComputedStyle(gd).display;\n",
       "        if (!display || display === 'none') {{\n",
       "            console.log([gd, 'removed!']);\n",
       "            Plotly.purge(gd);\n",
       "            observer.disconnect();\n",
       "        }}\n",
       "}});\n",
       "\n",
       "// Listen for the removal of the full notebook cells\n",
       "var notebookContainer = gd.closest('#notebook-container');\n",
       "if (notebookContainer) {{\n",
       "    x.observe(notebookContainer, {childList: true});\n",
       "}}\n",
       "\n",
       "// Listen for the clearing of the current output cell\n",
       "var outputEl = gd.closest('.output');\n",
       "if (outputEl) {{\n",
       "    x.observe(outputEl, {childList: true});\n",
       "}}\n",
       "\n",
       "                        })\n",
       "                };\n",
       "                });\n",
       "            </script>\n",
       "        </div>"
      ]
     },
     "metadata": {},
     "output_type": "display_data"
    }
   ],
   "source": [
    "fig = px.scatter(four, x=\"AsnChiNoTP_Mean\", y=\"ratio\", \n",
    "                hover_data=['NEIGHBORHOOD'],\n",
    "                labels={\n",
    "                     \"AsnChiNoTP_Mean\": \"% of Chinese population by neighborhood\",\n",
    "                     \"ratio\": \"Ratio  by neighborhood\",\n",
    "                 },\n",
    "                title=\"Relationship between % of Chinese population and avg price ratio of houses(with and without four)\")\n",
    "fig.show()"
   ]
  },
  {
   "cell_type": "markdown",
   "metadata": {},
   "source": [
    "We can hardly observe any trends from the above graph. The linear regression line is flat compared to what we have seen in the analysis of condos data, suggesting that avg prices of houses with address number ending in 4 and that without four have little to no difference."
   ]
  },
  {
   "cell_type": "code",
   "execution_count": 395,
   "metadata": {},
   "outputs": [
    {
     "data": {
      "image/png": "[encoded data removed]",
      "text/plain": [
       "<Figure size 1440x360 with 1 Axes>"
      ]
     },
     "metadata": {},
     "output_type": "display_data"
    }
   ],
   "source": [
    "plt.figure(figsize=(20,5))\n",
    "ax = sns.regplot( x=\"AsnChiNoTP_Mean\", y=\"ratio\", data=four)\n",
    "# ax.set(ylim=(-0.4, 0.4))"
   ]
  },
  {
   "cell_type": "markdown",
   "metadata": {},
   "source": [
    "Applying the same function to calculate avg price of houses with addrnumber ending with 8 and that ending without 8."
   ]
  },
  {
   "cell_type": "code",
   "execution_count": 396,
   "metadata": {},
   "outputs": [],
   "source": [
    "eight = comparePrice(noNan, \"addrnum_end_eight\", 10)"
   ]
  },
  {
   "cell_type": "code",
   "execution_count": 397,
   "metadata": {},
   "outputs": [
    {
     "data": {
      "application/vnd.plotly.v1+json": {
       "config": {
        "plotlyServerURL": "https://plot.ly"
       },
       "data": [
        {
         "customdata": [
          [
           "allerton-pelham gardens"
          ],
          [
           "annadale-huguenot-prince's bay-eltingville"
          ],
          [
           "baisley park"
          ],
          [
           "bayside-bayside hills"
          ],
          [
           "bedford park-fordham north"
          ],
          [
           "bellerose"
          ],
          [
           "bensonhurst east"
          ],
          [
           "borough park"
          ],
          [
           "breezy point-belle harbor-rockaway park-broad channel"
          ],
          [
           "briarwood-jamaica hills"
          ],
          [
           "bronxdale"
          ],
          [
           "brownsville"
          ],
          [
           "cambria heights"
          ],
          [
           "canarsie"
          ],
          [
           "charleston-richmond valley-tottenville"
          ],
          [
           "claremont-bathgate"
          ],
          [
           "college point"
          ],
          [
           "crotona park east"
          ],
          [
           "crown heights north"
          ],
          [
           "cypress hills-city line"
          ],
          [
           "douglas manor-douglaston-little neck"
          ],
          [
           "dyker heights"
          ],
          [
           "east concourse-concourse village"
          ],
          [
           "east elmhurst"
          ],
          [
           "east flatbush-farragut"
          ],
          [
           "east flushing"
          ],
          [
           "eastchester-edenwald-baychester"
          ],
          [
           "elmhurst-maspeth"
          ],
          [
           "flatlands"
          ],
          [
           "fordham south"
          ],
          [
           "forest hills"
          ],
          [
           "fresh meadows-utopia"
          ],
          [
           "georgetown-marine park-bergen beach-mill basin"
          ],
          [
           "glen oaks-floral park-new hyde park"
          ],
          [
           "glendale"
          ],
          [
           "grasmere-arrochar-ft. wadsworth"
          ],
          [
           "gravesend"
          ],
          [
           "great kills"
          ],
          [
           "grymes hill-clifton-fox hills"
          ],
          [
           "hammels-arverne-edgemere"
          ],
          [
           "highbridge"
          ],
          [
           "hollis"
          ],
          [
           "hunters point-sunnyside-west maspeth"
          ],
          [
           "jackson heights"
          ],
          [
           "jamaica estates-holliswood"
          ],
          [
           "kensington-ocean parkway"
          ],
          [
           "kew gardens hills"
          ],
          [
           "kingsbridge heights"
          ],
          [
           "laurelton"
          ],
          [
           "lindenwood-howard beach"
          ],
          [
           "longwood"
          ],
          [
           "madison"
          ],
          [
           "melrose south-mott haven north"
          ],
          [
           "middle village"
          ],
          [
           "midwood"
          ],
          [
           "morrisania-melrose"
          ],
          [
           "mott haven-port morris"
          ],
          [
           "new brighton-silver lake"
          ],
          [
           "new dorp-midland beach"
          ],
          [
           "new springville-bloomfield-travis"
          ],
          [
           "north corona"
          ],
          [
           "north riverdale-fieldston-riverdale"
          ],
          [
           "oakland gardens"
          ],
          [
           "oakwood-oakwood beach"
          ],
          [
           "old astoria"
          ],
          [
           "old town-dongan hills-south beach"
          ],
          [
           "park-cemetery-etc-queens"
          ],
          [
           "pelham bay-country club-city island"
          ],
          [
           "pomonok-flushing heights-hillcrest"
          ],
          [
           "rego park"
          ],
          [
           "rosedale"
          ],
          [
           "rossville-woodrow"
          ],
          [
           "schuylerville-throgs neck-edgewater park"
          ],
          [
           "seagate-coney island"
          ],
          [
           "sheepshead bay-gerritsen beach-manhattan beach"
          ],
          [
           "soho-tribeca-civic center-little italy"
          ],
          [
           "soundview-bruckner"
          ],
          [
           "soundview-castle hill-clason point-harding park"
          ],
          [
           "springfield gardens north"
          ],
          [
           "stapleton-rosebank"
          ],
          [
           "van nest-morris park-westchester square"
          ],
          [
           "west farms-bronx river"
          ],
          [
           "west new brighton-new brighton-st. george"
          ],
          [
           "westerleigh"
          ],
          [
           "whitestone"
          ],
          [
           "williamsbridge-olinville"
          ],
          [
           "woodhaven"
          ],
          [
           "woodlawn-wakefield"
          ],
          [
           "woodside"
          ]
         ],
         "hovertemplate": "% of Chinese population by neighborhood=%{x}<br>Ratio  by neighborhood=%{y}<br>NEIGHBORHOOD=%{customdata[0]}<extra></extra>",
         "legendgroup": "",
         "marker": {
          "color": "#636efa",
          "symbol": "circle"
         },
         "mode": "markers",
         "name": "",
         "orientation": "v",
         "showlegend": false,
         "type": "scatter",
         "x": [
          13.800000000000006,
          61.89999999999975,
          3.799999999999993,
          58.20000000000021,
          6.800000000000002,
          14.70000000000003,
          84.30000000000007,
          71.90000000000006,
          13.5,
          10.40000000000001,
          10.5,
          23.600000000000012,
          35.19999999999994,
          54.90000000000004,
          37,
          null,
          59.5,
          42.89999999999976,
          24.89999999999999,
          29.70000000000002,
          58.59999999999995,
          87.59999999999997,
          16.699999999999996,
          22.099999999999987,
          12.300000000000049,
          65.59999999999917,
          10.299999999999972,
          49.80000000000006,
          12.799999999999994,
          16.10000000000013,
          54,
          48.5,
          55.39999999999981,
          7.799999999999985,
          35.699999999999996,
          54.79999999999997,
          76.30000000000005,
          59.60000000000026,
          48.8,
          31.799999999999986,
          38.60000000000001,
          1.1000000000000008,
          28.899999999999984,
          27.09999999999996,
          7.700000000000025,
          19.79999999999997,
          59.100000000000016,
          10.5,
          5.100000000000014,
          33.09999999999995,
          81,
          76.89999999999996,
          18.900000000000002,
          64.69999999999993,
          31.5,
          16.60000000000001,
          24.09999999999997,
          30.699999999999992,
          53.30000000000008,
          29.70000000000002,
          69,
          29.199999999999992,
          61.90000000000006,
          78.39999999999998,
          13.700000000000031,
          62.400000000000034,
          null,
          12.299999999999995,
          65.40000000000002,
          47,
          44.30000000000009,
          45.599999999999994,
          30.19999999999998,
          70.30000000000004,
          73.3999999999998,
          71.80000000000007,
          13.300000000000006,
          28.2,
          null,
          59.39999999999991,
          12,
          2.7000000000000015,
          26.899999999999878,
          28.599999999999966,
          63.30000000000012,
          7.100000000000001,
          29.40000000000006,
          3.900000000000004,
          26.699999999999996
         ],
         "xaxis": "x",
         "y": [
          1.0149717505342168,
          1.0472853619239337,
          1.0897251139314075,
          1.0768667744811562,
          0.941495824420635,
          1.0369640223055496,
          1.1024460099625923,
          1.158774854013365,
          1.0035536641309482,
          0.8073464305038621,
          1.153002563491646,
          1.0425551724278017,
          0.8960766412009378,
          1.0401276354880973,
          0.9963585133894323,
          0.8898584445441701,
          1.0603176413053674,
          1.0487593444710928,
          0.9867224931566314,
          1.1106733596127365,
          1.0281579772084342,
          1.1352165208900578,
          0.7805591673391694,
          0.8159707844846721,
          0.8649837628417499,
          0.9305639046443706,
          1.0300815359950533,
          0.9057791137538652,
          1.327694836529638,
          1.0112505261185436,
          0.9687963349265206,
          0.8510295101818476,
          1.0648701196795003,
          1.1254427696575928,
          0.8766394836812629,
          1.0563802303847587,
          0.9756357265307544,
          1.0131963441496457,
          1.1876936476427704,
          0.9661706100127758,
          1.092178137083265,
          1.0246289938024278,
          0.6050360597003869,
          1.0569735776879445,
          0.98914733764777,
          0.9573056252504573,
          0.7659200781989509,
          1.2847038716929549,
          0.8742713269361849,
          0.9038083506957523,
          0.9390588698336876,
          0.9747333524187382,
          0.7907673098077377,
          1.033929861243932,
          1.1164433573154258,
          0.9718765939312134,
          0.8465852557810879,
          1.12026812672531,
          0.962212712827904,
          1.0687315521067389,
          1.0354969421517344,
          0.8266021522352229,
          1.0959364810731518,
          1.0053029562803315,
          1.1137062927574577,
          0.6375914874110059,
          1.033911476763531,
          1.121896698447097,
          1.1958955462131735,
          1.0904477751873796,
          0.9485967527849464,
          0.9892471749048173,
          0.9179999223292508,
          0.8439722924471094,
          0.9022744668311351,
          0.9890041453047552,
          0.9340602806435354,
          0.9519497242970479,
          1.0807598036805885,
          0.9993159362359721,
          0.8645902167289299,
          1.616526724201428,
          1.0112631499829041,
          1.0207679388238815,
          1.0515178946680475,
          0.9194679093494318,
          0.9173022017051793,
          0.9427756676904719,
          0.833890747805729
         ],
         "yaxis": "y"
        }
       ],
       "layout": {
        "legend": {
         "tracegroupgap": 0
        },
        "template": {
         "data": {
          "bar": [
           {
            "error_x": {
             "color": "#2a3f5f"
            },
            "error_y": {
             "color": "#2a3f5f"
            },
            "marker": {
             "line": {
              "color": "#E5ECF6",
              "width": 0.5
             }
            },
            "type": "bar"
           }
          ],
          "barpolar": [
           {
            "marker": {
             "line": {
              "color": "#E5ECF6",
              "width": 0.5
             }
            },
            "type": "barpolar"
           }
          ],
          "carpet": [
           {
            "aaxis": {
             "endlinecolor": "#2a3f5f",
             "gridcolor": "white",
             "linecolor": "white",
             "minorgridcolor": "white",
             "startlinecolor": "#2a3f5f"
            },
            "baxis": {
             "endlinecolor": "#2a3f5f",
             "gridcolor": "white",
             "linecolor": "white",
             "minorgridcolor": "white",
             "startlinecolor": "#2a3f5f"
            },
            "type": "carpet"
           }
          ],
          "choropleth": [
           {
            "colorbar": {
             "outlinewidth": 0,
             "ticks": ""
            },
            "type": "choropleth"
           }
          ],
          "contour": [
           {
            "colorbar": {
             "outlinewidth": 0,
             "ticks": ""
            },
            "colorscale": [
             [
              0,
              "#0d0887"
             ],
             [
              0.1111111111111111,
              "#46039f"
             ],
             [
              0.2222222222222222,
              "#7201a8"
             ],
             [
              0.3333333333333333,
              "#9c179e"
             ],
             [
              0.4444444444444444,
              "#bd3786"
             ],
             [
              0.5555555555555556,
              "#d8576b"
             ],
             [
              0.6666666666666666,
              "#ed7953"
             ],
             [
              0.7777777777777778,
              "#fb9f3a"
             ],
             [
              0.8888888888888888,
              "#fdca26"
             ],
             [
              1,
              "#f0f921"
             ]
            ],
            "type": "contour"
           }
          ],
          "contourcarpet": [
           {
            "colorbar": {
             "outlinewidth": 0,
             "ticks": ""
            },
            "type": "contourcarpet"
           }
          ],
          "heatmap": [
           {
            "colorbar": {
             "outlinewidth": 0,
             "ticks": ""
            },
            "colorscale": [
             [
              0,
              "#0d0887"
             ],
             [
              0.1111111111111111,
              "#46039f"
             ],
             [
              0.2222222222222222,
              "#7201a8"
             ],
             [
              0.3333333333333333,
              "#9c179e"
             ],
             [
              0.4444444444444444,
              "#bd3786"
             ],
             [
              0.5555555555555556,
              "#d8576b"
             ],
             [
              0.6666666666666666,
              "#ed7953"
             ],
             [
              0.7777777777777778,
              "#fb9f3a"
             ],
             [
              0.8888888888888888,
              "#fdca26"
             ],
             [
              1,
              "#f0f921"
             ]
            ],
            "type": "heatmap"
           }
          ],
          "heatmapgl": [
           {
            "colorbar": {
             "outlinewidth": 0,
             "ticks": ""
            },
            "colorscale": [
             [
              0,
              "#0d0887"
             ],
             [
              0.1111111111111111,
              "#46039f"
             ],
             [
              0.2222222222222222,
              "#7201a8"
             ],
             [
              0.3333333333333333,
              "#9c179e"
             ],
             [
              0.4444444444444444,
              "#bd3786"
             ],
             [
              0.5555555555555556,
              "#d8576b"
             ],
             [
              0.6666666666666666,
              "#ed7953"
             ],
             [
              0.7777777777777778,
              "#fb9f3a"
             ],
             [
              0.8888888888888888,
              "#fdca26"
             ],
             [
              1,
              "#f0f921"
             ]
            ],
            "type": "heatmapgl"
           }
          ],
          "histogram": [
           {
            "marker": {
             "colorbar": {
              "outlinewidth": 0,
              "ticks": ""
             }
            },
            "type": "histogram"
           }
          ],
          "histogram2d": [
           {
            "colorbar": {
             "outlinewidth": 0,
             "ticks": ""
            },
            "colorscale": [
             [
              0,
              "#0d0887"
             ],
             [
              0.1111111111111111,
              "#46039f"
             ],
             [
              0.2222222222222222,
              "#7201a8"
             ],
             [
              0.3333333333333333,
              "#9c179e"
             ],
             [
              0.4444444444444444,
              "#bd3786"
             ],
             [
              0.5555555555555556,
              "#d8576b"
             ],
             [
              0.6666666666666666,
              "#ed7953"
             ],
             [
              0.7777777777777778,
              "#fb9f3a"
             ],
             [
              0.8888888888888888,
              "#fdca26"
             ],
             [
              1,
              "#f0f921"
             ]
            ],
            "type": "histogram2d"
           }
          ],
          "histogram2dcontour": [
           {
            "colorbar": {
             "outlinewidth": 0,
             "ticks": ""
            },
            "colorscale": [
             [
              0,
              "#0d0887"
             ],
             [
              0.1111111111111111,
              "#46039f"
             ],
             [
              0.2222222222222222,
              "#7201a8"
             ],
             [
              0.3333333333333333,
              "#9c179e"
             ],
             [
              0.4444444444444444,
              "#bd3786"
             ],
             [
              0.5555555555555556,
              "#d8576b"
             ],
             [
              0.6666666666666666,
              "#ed7953"
             ],
             [
              0.7777777777777778,
              "#fb9f3a"
             ],
             [
              0.8888888888888888,
              "#fdca26"
             ],
             [
              1,
              "#f0f921"
             ]
            ],
            "type": "histogram2dcontour"
           }
          ],
          "mesh3d": [
           {
            "colorbar": {
             "outlinewidth": 0,
             "ticks": ""
            },
            "type": "mesh3d"
           }
          ],
          "parcoords": [
           {
            "line": {
             "colorbar": {
              "outlinewidth": 0,
              "ticks": ""
             }
            },
            "type": "parcoords"
           }
          ],
          "pie": [
           {
            "automargin": true,
            "type": "pie"
           }
          ],
          "scatter": [
           {
            "marker": {
             "colorbar": {
              "outlinewidth": 0,
              "ticks": ""
             }
            },
            "type": "scatter"
           }
          ],
          "scatter3d": [
           {
            "line": {
             "colorbar": {
              "outlinewidth": 0,
              "ticks": ""
             }
            },
            "marker": {
             "colorbar": {
              "outlinewidth": 0,
              "ticks": ""
             }
            },
            "type": "scatter3d"
           }
          ],
          "scattercarpet": [
           {
            "marker": {
             "colorbar": {
              "outlinewidth": 0,
              "ticks": ""
             }
            },
            "type": "scattercarpet"
           }
          ],
          "scattergeo": [
           {
            "marker": {
             "colorbar": {
              "outlinewidth": 0,
              "ticks": ""
             }
            },
            "type": "scattergeo"
           }
          ],
          "scattergl": [
           {
            "marker": {
             "colorbar": {
              "outlinewidth": 0,
              "ticks": ""
             }
            },
            "type": "scattergl"
           }
          ],
          "scattermapbox": [
           {
            "marker": {
             "colorbar": {
              "outlinewidth": 0,
              "ticks": ""
             }
            },
            "type": "scattermapbox"
           }
          ],
          "scatterpolar": [
           {
            "marker": {
             "colorbar": {
              "outlinewidth": 0,
              "ticks": ""
             }
            },
            "type": "scatterpolar"
           }
          ],
          "scatterpolargl": [
           {
            "marker": {
             "colorbar": {
              "outlinewidth": 0,
              "ticks": ""
             }
            },
            "type": "scatterpolargl"
           }
          ],
          "scatterternary": [
           {
            "marker": {
             "colorbar": {
              "outlinewidth": 0,
              "ticks": ""
             }
            },
            "type": "scatterternary"
           }
          ],
          "surface": [
           {
            "colorbar": {
             "outlinewidth": 0,
             "ticks": ""
            },
            "colorscale": [
             [
              0,
              "#0d0887"
             ],
             [
              0.1111111111111111,
              "#46039f"
             ],
             [
              0.2222222222222222,
              "#7201a8"
             ],
             [
              0.3333333333333333,
              "#9c179e"
             ],
             [
              0.4444444444444444,
              "#bd3786"
             ],
             [
              0.5555555555555556,
              "#d8576b"
             ],
             [
              0.6666666666666666,
              "#ed7953"
             ],
             [
              0.7777777777777778,
              "#fb9f3a"
             ],
             [
              0.8888888888888888,
              "#fdca26"
             ],
             [
              1,
              "#f0f921"
             ]
            ],
            "type": "surface"
           }
          ],
          "table": [
           {
            "cells": {
             "fill": {
              "color": "#EBF0F8"
             },
             "line": {
              "color": "white"
             }
            },
            "header": {
             "fill": {
              "color": "#C8D4E3"
             },
             "line": {
              "color": "white"
             }
            },
            "type": "table"
           }
          ]
         },
         "layout": {
          "annotationdefaults": {
           "arrowcolor": "#2a3f5f",
           "arrowhead": 0,
           "arrowwidth": 1
          },
          "coloraxis": {
           "colorbar": {
            "outlinewidth": 0,
            "ticks": ""
           }
          },
          "colorscale": {
           "diverging": [
            [
             0,
             "#8e0152"
            ],
            [
             0.1,
             "#c51b7d"
            ],
            [
             0.2,
             "#de77ae"
            ],
            [
             0.3,
             "#f1b6da"
            ],
            [
             0.4,
             "#fde0ef"
            ],
            [
             0.5,
             "#f7f7f7"
            ],
            [
             0.6,
             "#e6f5d0"
            ],
            [
             0.7,
             "#b8e186"
            ],
            [
             0.8,
             "#7fbc41"
            ],
            [
             0.9,
             "#4d9221"
            ],
            [
             1,
             "#276419"
            ]
           ],
           "sequential": [
            [
             0,
             "#0d0887"
            ],
            [
             0.1111111111111111,
             "#46039f"
            ],
            [
             0.2222222222222222,
             "#7201a8"
            ],
            [
             0.3333333333333333,
             "#9c179e"
            ],
            [
             0.4444444444444444,
             "#bd3786"
            ],
            [
             0.5555555555555556,
             "#d8576b"
            ],
            [
             0.6666666666666666,
             "#ed7953"
            ],
            [
             0.7777777777777778,
             "#fb9f3a"
            ],
            [
             0.8888888888888888,
             "#fdca26"
            ],
            [
             1,
             "#f0f921"
            ]
           ],
           "sequentialminus": [
            [
             0,
             "#0d0887"
            ],
            [
             0.1111111111111111,
             "#46039f"
            ],
            [
             0.2222222222222222,
             "#7201a8"
            ],
            [
             0.3333333333333333,
             "#9c179e"
            ],
            [
             0.4444444444444444,
             "#bd3786"
            ],
            [
             0.5555555555555556,
             "#d8576b"
            ],
            [
             0.6666666666666666,
             "#ed7953"
            ],
            [
             0.7777777777777778,
             "#fb9f3a"
            ],
            [
             0.8888888888888888,
             "#fdca26"
            ],
            [
             1,
             "#f0f921"
            ]
           ]
          },
          "colorway": [
           "#636efa",
           "#EF553B",
           "#00cc96",
           "#ab63fa",
           "#FFA15A",
           "#19d3f3",
           "#FF6692",
           "#B6E880",
           "#FF97FF",
           "#FECB52"
          ],
          "font": {
           "color": "#2a3f5f"
          },
          "geo": {
           "bgcolor": "white",
           "lakecolor": "white",
           "landcolor": "#E5ECF6",
           "showlakes": true,
           "showland": true,
           "subunitcolor": "white"
          },
          "hoverlabel": {
           "align": "left"
          },
          "hovermode": "closest",
          "mapbox": {
           "style": "light"
          },
          "paper_bgcolor": "white",
          "plot_bgcolor": "#E5ECF6",
          "polar": {
           "angularaxis": {
            "gridcolor": "white",
            "linecolor": "white",
            "ticks": ""
           },
           "bgcolor": "#E5ECF6",
           "radialaxis": {
            "gridcolor": "white",
            "linecolor": "white",
            "ticks": ""
           }
          },
          "scene": {
           "xaxis": {
            "backgroundcolor": "#E5ECF6",
            "gridcolor": "white",
            "gridwidth": 2,
            "linecolor": "white",
            "showbackground": true,
            "ticks": "",
            "zerolinecolor": "white"
           },
           "yaxis": {
            "backgroundcolor": "#E5ECF6",
            "gridcolor": "white",
            "gridwidth": 2,
            "linecolor": "white",
            "showbackground": true,
            "ticks": "",
            "zerolinecolor": "white"
           },
           "zaxis": {
            "backgroundcolor": "#E5ECF6",
            "gridcolor": "white",
            "gridwidth": 2,
            "linecolor": "white",
            "showbackground": true,
            "ticks": "",
            "zerolinecolor": "white"
           }
          },
          "shapedefaults": {
           "line": {
            "color": "#2a3f5f"
           }
          },
          "ternary": {
           "aaxis": {
            "gridcolor": "white",
            "linecolor": "white",
            "ticks": ""
           },
           "baxis": {
            "gridcolor": "white",
            "linecolor": "white",
            "ticks": ""
           },
           "bgcolor": "#E5ECF6",
           "caxis": {
            "gridcolor": "white",
            "linecolor": "white",
            "ticks": ""
           }
          },
          "title": {
           "x": 0.05
          },
          "xaxis": {
           "automargin": true,
           "gridcolor": "white",
           "linecolor": "white",
           "ticks": "",
           "title": {
            "standoff": 15
           },
           "zerolinecolor": "white",
           "zerolinewidth": 2
          },
          "yaxis": {
           "automargin": true,
           "gridcolor": "white",
           "linecolor": "white",
           "ticks": "",
           "title": {
            "standoff": 15
           },
           "zerolinecolor": "white",
           "zerolinewidth": 2
          }
         }
        },
        "title": {
         "text": "Relationship between % of Chinese population and avg price ratio of condos(with and without eight)"
        },
        "xaxis": {
         "anchor": "y",
         "domain": [
          0,
          1
         ],
         "title": {
          "text": "% of Chinese population by neighborhood"
         }
        },
        "yaxis": {
         "anchor": "x",
         "domain": [
          0,
          1
         ],
         "title": {
          "text": "Ratio  by neighborhood"
         }
        }
       }
      },
      "text/html": [
       "<div>\n",
       "        \n",
       "        \n",
       "            <div id=\"34792587-3db5-41bb-ac33-23bf64e9124b\" class=\"plotly-graph-div\" style=\"height:525px; width:100%;\"></div>\n",
       "            <script type=\"text/javascript\">\n",
       "                require([\"plotly\"], function(Plotly) {\n",
       "                    window.PLOTLYENV=window.PLOTLYENV || {};\n",
       "                    \n",
       "                if (document.getElementById(\"34792587-3db5-41bb-ac33-23bf64e9124b\")) {\n",
       "                    Plotly.newPlot(\n",
       "                        '34792587-3db5-41bb-ac33-23bf64e9124b',\n",
       "                        [{\"customdata\": [[\"allerton-pelham gardens\"], [\"annadale-huguenot-prince's bay-eltingville\"], [\"baisley park\"], [\"bayside-bayside hills\"], [\"bedford park-fordham north\"], [\"bellerose\"], [\"bensonhurst east\"], [\"borough park\"], [\"breezy point-belle harbor-rockaway park-broad channel\"], [\"briarwood-jamaica hills\"], [\"bronxdale\"], [\"brownsville\"], [\"cambria heights\"], [\"canarsie\"], [\"charleston-richmond valley-tottenville\"], [\"claremont-bathgate\"], [\"college point\"], [\"crotona park east\"], [\"crown heights north\"], [\"cypress hills-city line\"], [\"douglas manor-douglaston-little neck\"], [\"dyker heights\"], [\"east concourse-concourse village\"], [\"east elmhurst\"], [\"east flatbush-farragut\"], [\"east flushing\"], [\"eastchester-edenwald-baychester\"], [\"elmhurst-maspeth\"], [\"flatlands\"], [\"fordham south\"], [\"forest hills\"], [\"fresh meadows-utopia\"], [\"georgetown-marine park-bergen beach-mill basin\"], [\"glen oaks-floral park-new hyde park\"], [\"glendale\"], [\"grasmere-arrochar-ft. wadsworth\"], [\"gravesend\"], [\"great kills\"], [\"grymes hill-clifton-fox hills\"], [\"hammels-arverne-edgemere\"], [\"highbridge\"], [\"hollis\"], [\"hunters point-sunnyside-west maspeth\"], [\"jackson heights\"], [\"jamaica estates-holliswood\"], [\"kensington-ocean parkway\"], [\"kew gardens hills\"], [\"kingsbridge heights\"], [\"laurelton\"], [\"lindenwood-howard beach\"], [\"longwood\"], [\"madison\"], [\"melrose south-mott haven north\"], [\"middle village\"], [\"midwood\"], [\"morrisania-melrose\"], [\"mott haven-port morris\"], [\"new brighton-silver lake\"], [\"new dorp-midland beach\"], [\"new springville-bloomfield-travis\"], [\"north corona\"], [\"north riverdale-fieldston-riverdale\"], [\"oakland gardens\"], [\"oakwood-oakwood beach\"], [\"old astoria\"], [\"old town-dongan hills-south beach\"], [\"park-cemetery-etc-queens\"], [\"pelham bay-country club-city island\"], [\"pomonok-flushing heights-hillcrest\"], [\"rego park\"], [\"rosedale\"], [\"rossville-woodrow\"], [\"schuylerville-throgs neck-edgewater park\"], [\"seagate-coney island\"], [\"sheepshead bay-gerritsen beach-manhattan beach\"], [\"soho-tribeca-civic center-little italy\"], [\"soundview-bruckner\"], [\"soundview-castle hill-clason point-harding park\"], [\"springfield gardens north\"], [\"stapleton-rosebank\"], [\"van nest-morris park-westchester square\"], [\"west farms-bronx river\"], [\"west new brighton-new brighton-st. george\"], [\"westerleigh\"], [\"whitestone\"], [\"williamsbridge-olinville\"], [\"woodhaven\"], [\"woodlawn-wakefield\"], [\"woodside\"]], \"hovertemplate\": \"% of Chinese population by neighborhood=%{x}<br>Ratio  by neighborhood=%{y}<br>NEIGHBORHOOD=%{customdata[0]}<extra></extra>\", \"legendgroup\": \"\", \"marker\": {\"color\": \"#636efa\", \"symbol\": \"circle\"}, \"mode\": \"markers\", \"name\": \"\", \"orientation\": \"v\", \"showlegend\": false, \"type\": \"scatter\", \"x\": [13.800000000000006, 61.89999999999975, 3.799999999999993, 58.20000000000021, 6.800000000000002, 14.70000000000003, 84.30000000000007, 71.90000000000006, 13.5, 10.40000000000001, 10.5, 23.600000000000012, 35.19999999999994, 54.90000000000004, 37.0, null, 59.5, 42.89999999999976, 24.89999999999999, 29.70000000000002, 58.59999999999995, 87.59999999999997, 16.699999999999996, 22.099999999999987, 12.300000000000049, 65.59999999999917, 10.299999999999972, 49.80000000000006, 12.799999999999994, 16.10000000000013, 54.0, 48.5, 55.39999999999981, 7.799999999999985, 35.699999999999996, 54.79999999999997, 76.30000000000005, 59.60000000000026, 48.8, 31.799999999999986, 38.60000000000001, 1.1000000000000008, 28.899999999999984, 27.09999999999996, 7.700000000000025, 19.79999999999997, 59.100000000000016, 10.5, 5.100000000000014, 33.09999999999995, 81.0, 76.89999999999996, 18.900000000000002, 64.69999999999993, 31.5, 16.60000000000001, 24.09999999999997, 30.699999999999992, 53.30000000000008, 29.70000000000002, 69.0, 29.199999999999992, 61.90000000000006, 78.39999999999998, 13.700000000000031, 62.400000000000034, null, 12.299999999999995, 65.40000000000002, 47.0, 44.30000000000009, 45.599999999999994, 30.19999999999998, 70.30000000000004, 73.3999999999998, 71.80000000000007, 13.300000000000006, 28.2, null, 59.39999999999991, 12.0, 2.7000000000000015, 26.899999999999878, 28.599999999999966, 63.30000000000012, 7.100000000000001, 29.40000000000006, 3.900000000000004, 26.699999999999996], \"xaxis\": \"x\", \"y\": [1.0149717505342168, 1.0472853619239337, 1.0897251139314075, 1.0768667744811562, 0.941495824420635, 1.0369640223055496, 1.1024460099625923, 1.158774854013365, 1.0035536641309482, 0.8073464305038621, 1.153002563491646, 1.0425551724278017, 0.8960766412009378, 1.0401276354880973, 0.9963585133894323, 0.8898584445441701, 1.0603176413053674, 1.0487593444710928, 0.9867224931566314, 1.1106733596127365, 1.0281579772084342, 1.1352165208900578, 0.7805591673391694, 0.8159707844846721, 0.8649837628417499, 0.9305639046443706, 1.0300815359950533, 0.9057791137538652, 1.327694836529638, 1.0112505261185436, 0.9687963349265206, 0.8510295101818476, 1.0648701196795003, 1.1254427696575928, 0.8766394836812629, 1.0563802303847587, 0.9756357265307544, 1.0131963441496457, 1.1876936476427704, 0.9661706100127758, 1.092178137083265, 1.0246289938024278, 0.6050360597003869, 1.0569735776879445, 0.98914733764777, 0.9573056252504573, 0.7659200781989509, 1.2847038716929549, 0.8742713269361849, 0.9038083506957523, 0.9390588698336876, 0.9747333524187382, 0.7907673098077377, 1.033929861243932, 1.1164433573154258, 0.9718765939312134, 0.8465852557810879, 1.12026812672531, 0.962212712827904, 1.0687315521067389, 1.0354969421517344, 0.8266021522352229, 1.0959364810731518, 1.0053029562803315, 1.1137062927574577, 0.6375914874110059, 1.033911476763531, 1.121896698447097, 1.1958955462131735, 1.0904477751873796, 0.9485967527849464, 0.9892471749048173, 0.9179999223292508, 0.8439722924471094, 0.9022744668311351, 0.9890041453047552, 0.9340602806435354, 0.9519497242970479, 1.0807598036805885, 0.9993159362359721, 0.8645902167289299, 1.616526724201428, 1.0112631499829041, 1.0207679388238815, 1.0515178946680475, 0.9194679093494318, 0.9173022017051793, 0.9427756676904719, 0.833890747805729], \"yaxis\": \"y\"}],\n",
       "                        {\"legend\": {\"tracegroupgap\": 0}, \"template\": {\"data\": {\"bar\": [{\"error_x\": {\"color\": \"#2a3f5f\"}, \"error_y\": {\"color\": \"#2a3f5f\"}, \"marker\": {\"line\": {\"color\": \"#E5ECF6\", \"width\": 0.5}}, \"type\": \"bar\"}], \"barpolar\": [{\"marker\": {\"line\": {\"color\": \"#E5ECF6\", \"width\": 0.5}}, \"type\": \"barpolar\"}], \"carpet\": [{\"aaxis\": {\"endlinecolor\": \"#2a3f5f\", \"gridcolor\": \"white\", \"linecolor\": \"white\", \"minorgridcolor\": \"white\", \"startlinecolor\": \"#2a3f5f\"}, \"baxis\": {\"endlinecolor\": \"#2a3f5f\", \"gridcolor\": \"white\", \"linecolor\": \"white\", \"minorgridcolor\": \"white\", \"startlinecolor\": \"#2a3f5f\"}, \"type\": \"carpet\"}], \"choropleth\": [{\"colorbar\": {\"outlinewidth\": 0, \"ticks\": \"\"}, \"type\": \"choropleth\"}], \"contour\": [{\"colorbar\": {\"outlinewidth\": 0, \"ticks\": \"\"}, \"colorscale\": [[0.0, \"#0d0887\"], [0.1111111111111111, \"#46039f\"], [0.2222222222222222, \"#7201a8\"], [0.3333333333333333, \"#9c179e\"], [0.4444444444444444, \"#bd3786\"], [0.5555555555555556, \"#d8576b\"], [0.6666666666666666, \"#ed7953\"], [0.7777777777777778, \"#fb9f3a\"], [0.8888888888888888, \"#fdca26\"], [1.0, \"#f0f921\"]], \"type\": \"contour\"}], \"contourcarpet\": [{\"colorbar\": {\"outlinewidth\": 0, \"ticks\": \"\"}, \"type\": \"contourcarpet\"}], \"heatmap\": [{\"colorbar\": {\"outlinewidth\": 0, \"ticks\": \"\"}, \"colorscale\": [[0.0, \"#0d0887\"], [0.1111111111111111, \"#46039f\"], [0.2222222222222222, \"#7201a8\"], [0.3333333333333333, \"#9c179e\"], [0.4444444444444444, \"#bd3786\"], [0.5555555555555556, \"#d8576b\"], [0.6666666666666666, \"#ed7953\"], [0.7777777777777778, \"#fb9f3a\"], [0.8888888888888888, \"#fdca26\"], [1.0, \"#f0f921\"]], \"type\": \"heatmap\"}], \"heatmapgl\": [{\"colorbar\": {\"outlinewidth\": 0, \"ticks\": \"\"}, \"colorscale\": [[0.0, \"#0d0887\"], [0.1111111111111111, \"#46039f\"], [0.2222222222222222, \"#7201a8\"], [0.3333333333333333, \"#9c179e\"], [0.4444444444444444, \"#bd3786\"], [0.5555555555555556, \"#d8576b\"], [0.6666666666666666, \"#ed7953\"], [0.7777777777777778, \"#fb9f3a\"], [0.8888888888888888, \"#fdca26\"], [1.0, \"#f0f921\"]], \"type\": \"heatmapgl\"}], \"histogram\": [{\"marker\": {\"colorbar\": {\"outlinewidth\": 0, \"ticks\": \"\"}}, \"type\": \"histogram\"}], \"histogram2d\": [{\"colorbar\": {\"outlinewidth\": 0, \"ticks\": \"\"}, \"colorscale\": [[0.0, \"#0d0887\"], [0.1111111111111111, \"#46039f\"], [0.2222222222222222, \"#7201a8\"], [0.3333333333333333, \"#9c179e\"], [0.4444444444444444, \"#bd3786\"], [0.5555555555555556, \"#d8576b\"], [0.6666666666666666, \"#ed7953\"], [0.7777777777777778, \"#fb9f3a\"], [0.8888888888888888, \"#fdca26\"], [1.0, \"#f0f921\"]], \"type\": \"histogram2d\"}], \"histogram2dcontour\": [{\"colorbar\": {\"outlinewidth\": 0, \"ticks\": \"\"}, \"colorscale\": [[0.0, \"#0d0887\"], [0.1111111111111111, \"#46039f\"], [0.2222222222222222, \"#7201a8\"], [0.3333333333333333, \"#9c179e\"], [0.4444444444444444, \"#bd3786\"], [0.5555555555555556, \"#d8576b\"], [0.6666666666666666, \"#ed7953\"], [0.7777777777777778, \"#fb9f3a\"], [0.8888888888888888, \"#fdca26\"], [1.0, \"#f0f921\"]], \"type\": \"histogram2dcontour\"}], \"mesh3d\": [{\"colorbar\": {\"outlinewidth\": 0, \"ticks\": \"\"}, \"type\": \"mesh3d\"}], \"parcoords\": [{\"line\": {\"colorbar\": {\"outlinewidth\": 0, \"ticks\": \"\"}}, \"type\": \"parcoords\"}], \"pie\": [{\"automargin\": true, \"type\": \"pie\"}], \"scatter\": [{\"marker\": {\"colorbar\": {\"outlinewidth\": 0, \"ticks\": \"\"}}, \"type\": \"scatter\"}], \"scatter3d\": [{\"line\": {\"colorbar\": {\"outlinewidth\": 0, \"ticks\": \"\"}}, \"marker\": {\"colorbar\": {\"outlinewidth\": 0, \"ticks\": \"\"}}, \"type\": \"scatter3d\"}], \"scattercarpet\": [{\"marker\": {\"colorbar\": {\"outlinewidth\": 0, \"ticks\": \"\"}}, \"type\": \"scattercarpet\"}], \"scattergeo\": [{\"marker\": {\"colorbar\": {\"outlinewidth\": 0, \"ticks\": \"\"}}, \"type\": \"scattergeo\"}], \"scattergl\": [{\"marker\": {\"colorbar\": {\"outlinewidth\": 0, \"ticks\": \"\"}}, \"type\": \"scattergl\"}], \"scattermapbox\": [{\"marker\": {\"colorbar\": {\"outlinewidth\": 0, \"ticks\": \"\"}}, \"type\": \"scattermapbox\"}], \"scatterpolar\": [{\"marker\": {\"colorbar\": {\"outlinewidth\": 0, \"ticks\": \"\"}}, \"type\": \"scatterpolar\"}], \"scatterpolargl\": [{\"marker\": {\"colorbar\": {\"outlinewidth\": 0, \"ticks\": \"\"}}, \"type\": \"scatterpolargl\"}], \"scatterternary\": [{\"marker\": {\"colorbar\": {\"outlinewidth\": 0, \"ticks\": \"\"}}, \"type\": \"scatterternary\"}], \"surface\": [{\"colorbar\": {\"outlinewidth\": 0, \"ticks\": \"\"}, \"colorscale\": [[0.0, \"#0d0887\"], [0.1111111111111111, \"#46039f\"], [0.2222222222222222, \"#7201a8\"], [0.3333333333333333, \"#9c179e\"], [0.4444444444444444, \"#bd3786\"], [0.5555555555555556, \"#d8576b\"], [0.6666666666666666, \"#ed7953\"], [0.7777777777777778, \"#fb9f3a\"], [0.8888888888888888, \"#fdca26\"], [1.0, \"#f0f921\"]], \"type\": \"surface\"}], \"table\": [{\"cells\": {\"fill\": {\"color\": \"#EBF0F8\"}, \"line\": {\"color\": \"white\"}}, \"header\": {\"fill\": {\"color\": \"#C8D4E3\"}, \"line\": {\"color\": \"white\"}}, \"type\": \"table\"}]}, \"layout\": {\"annotationdefaults\": {\"arrowcolor\": \"#2a3f5f\", \"arrowhead\": 0, \"arrowwidth\": 1}, \"coloraxis\": {\"colorbar\": {\"outlinewidth\": 0, \"ticks\": \"\"}}, \"colorscale\": {\"diverging\": [[0, \"#8e0152\"], [0.1, \"#c51b7d\"], [0.2, \"#de77ae\"], [0.3, \"#f1b6da\"], [0.4, \"#fde0ef\"], [0.5, \"#f7f7f7\"], [0.6, \"#e6f5d0\"], [0.7, \"#b8e186\"], [0.8, \"#7fbc41\"], [0.9, \"#4d9221\"], [1, \"#276419\"]], \"sequential\": [[0.0, \"#0d0887\"], [0.1111111111111111, \"#46039f\"], [0.2222222222222222, \"#7201a8\"], [0.3333333333333333, \"#9c179e\"], [0.4444444444444444, \"#bd3786\"], [0.5555555555555556, \"#d8576b\"], [0.6666666666666666, \"#ed7953\"], [0.7777777777777778, \"#fb9f3a\"], [0.8888888888888888, \"#fdca26\"], [1.0, \"#f0f921\"]], \"sequentialminus\": [[0.0, \"#0d0887\"], [0.1111111111111111, \"#46039f\"], [0.2222222222222222, \"#7201a8\"], [0.3333333333333333, \"#9c179e\"], [0.4444444444444444, \"#bd3786\"], [0.5555555555555556, \"#d8576b\"], [0.6666666666666666, \"#ed7953\"], [0.7777777777777778, \"#fb9f3a\"], [0.8888888888888888, \"#fdca26\"], [1.0, \"#f0f921\"]]}, \"colorway\": [\"#636efa\", \"#EF553B\", \"#00cc96\", \"#ab63fa\", \"#FFA15A\", \"#19d3f3\", \"#FF6692\", \"#B6E880\", \"#FF97FF\", \"#FECB52\"], \"font\": {\"color\": \"#2a3f5f\"}, \"geo\": {\"bgcolor\": \"white\", \"lakecolor\": \"white\", \"landcolor\": \"#E5ECF6\", \"showlakes\": true, \"showland\": true, \"subunitcolor\": \"white\"}, \"hoverlabel\": {\"align\": \"left\"}, \"hovermode\": \"closest\", \"mapbox\": {\"style\": \"light\"}, \"paper_bgcolor\": \"white\", \"plot_bgcolor\": \"#E5ECF6\", \"polar\": {\"angularaxis\": {\"gridcolor\": \"white\", \"linecolor\": \"white\", \"ticks\": \"\"}, \"bgcolor\": \"#E5ECF6\", \"radialaxis\": {\"gridcolor\": \"white\", \"linecolor\": \"white\", \"ticks\": \"\"}}, \"scene\": {\"xaxis\": {\"backgroundcolor\": \"#E5ECF6\", \"gridcolor\": \"white\", \"gridwidth\": 2, \"linecolor\": \"white\", \"showbackground\": true, \"ticks\": \"\", \"zerolinecolor\": \"white\"}, \"yaxis\": {\"backgroundcolor\": \"#E5ECF6\", \"gridcolor\": \"white\", \"gridwidth\": 2, \"linecolor\": \"white\", \"showbackground\": true, \"ticks\": \"\", \"zerolinecolor\": \"white\"}, \"zaxis\": {\"backgroundcolor\": \"#E5ECF6\", \"gridcolor\": \"white\", \"gridwidth\": 2, \"linecolor\": \"white\", \"showbackground\": true, \"ticks\": \"\", \"zerolinecolor\": \"white\"}}, \"shapedefaults\": {\"line\": {\"color\": \"#2a3f5f\"}}, \"ternary\": {\"aaxis\": {\"gridcolor\": \"white\", \"linecolor\": \"white\", \"ticks\": \"\"}, \"baxis\": {\"gridcolor\": \"white\", \"linecolor\": \"white\", \"ticks\": \"\"}, \"bgcolor\": \"#E5ECF6\", \"caxis\": {\"gridcolor\": \"white\", \"linecolor\": \"white\", \"ticks\": \"\"}}, \"title\": {\"x\": 0.05}, \"xaxis\": {\"automargin\": true, \"gridcolor\": \"white\", \"linecolor\": \"white\", \"ticks\": \"\", \"title\": {\"standoff\": 15}, \"zerolinecolor\": \"white\", \"zerolinewidth\": 2}, \"yaxis\": {\"automargin\": true, \"gridcolor\": \"white\", \"linecolor\": \"white\", \"ticks\": \"\", \"title\": {\"standoff\": 15}, \"zerolinecolor\": \"white\", \"zerolinewidth\": 2}}}, \"title\": {\"text\": \"Relationship between % of Chinese population and avg price ratio of condos(with and without eight)\"}, \"xaxis\": {\"anchor\": \"y\", \"domain\": [0.0, 1.0], \"title\": {\"text\": \"% of Chinese population by neighborhood\"}}, \"yaxis\": {\"anchor\": \"x\", \"domain\": [0.0, 1.0], \"title\": {\"text\": \"Ratio  by neighborhood\"}}},\n",
       "                        {\"responsive\": true}\n",
       "                    ).then(function(){\n",
       "                            \n",
       "var gd = document.getElementById('34792587-3db5-41bb-ac33-23bf64e9124b');\n",
       "var x = new MutationObserver(function (mutations, observer) {{\n",
       "        var display = window.getComputedStyle(gd).display;\n",
       "        if (!display || display === 'none') {{\n",
       "            console.log([gd, 'removed!']);\n",
       "            Plotly.purge(gd);\n",
       "            observer.disconnect();\n",
       "        }}\n",
       "}});\n",
       "\n",
       "// Listen for the removal of the full notebook cells\n",
       "var notebookContainer = gd.closest('#notebook-container');\n",
       "if (notebookContainer) {{\n",
       "    x.observe(notebookContainer, {childList: true});\n",
       "}}\n",
       "\n",
       "// Listen for the clearing of the current output cell\n",
       "var outputEl = gd.closest('.output');\n",
       "if (outputEl) {{\n",
       "    x.observe(outputEl, {childList: true});\n",
       "}}\n",
       "\n",
       "                        })\n",
       "                };\n",
       "                });\n",
       "            </script>\n",
       "        </div>"
      ]
     },
     "metadata": {},
     "output_type": "display_data"
    }
   ],
   "source": [
    "fig = px.scatter(eight, x=\"AsnChiNoTP_Mean\", y=\"ratio\", \n",
    "                hover_data=['NEIGHBORHOOD'],\n",
    "         labels={\n",
    "                     \"AsnChiNoTP_Mean\": \"% of Chinese population by neighborhood\",\n",
    "                     \"ratio\": \"Ratio  by neighborhood\",\n",
    "                 },\n",
    "                title=\"Relationship between % of Chinese population and avg price ratio of condos(with and without eight)\")\n",
    "fig.show()"
   ]
  },
  {
   "cell_type": "code",
   "execution_count": 398,
   "metadata": {},
   "outputs": [
    {
     "data": {
      "image/png": "[encoded data removed]",
      "text/plain": [
       "<Figure size 1440x360 with 1 Axes>"
      ]
     },
     "metadata": {},
     "output_type": "display_data"
    }
   ],
   "source": [
    "plt.figure(figsize=(20,5))\n",
    "ax = sns.regplot( x=\"AsnChiNoTP_Mean\", y=\"ratio\", data=eight)\n",
    "# ax.set(ylim=(-0.4, 0.4))"
   ]
  },
  {
   "cell_type": "markdown",
   "metadata": {},
   "source": [
    "### Concerns"
   ]
  },
  {
   "cell_type": "markdown",
   "metadata": {},
   "source": [
    "- Price could be affected by many factors: ex. renovations, views, transportation..."
   ]
  },
  {
   "cell_type": "markdown",
   "metadata": {},
   "source": [
    "### Next Steps\n",
    "- Put data point on map, color each data point by median price and observe whether other factors influence property values.\n",
    "- Build a larger dataset with time seires to examine whether numeric superstitious beliefs have faded away.\n",
    "- Use census data to supplement the ethnicity information.\n",
    "- Research numeric superstitious beliefs in other cultures."
   ]
  },
  {
   "cell_type": "code",
   "execution_count": null,
   "metadata": {},
   "outputs": [],
   "source": []
  }
 ],
 "metadata": {
  "kernelspec": {
   "display_name": "Python 3",
   "language": "python",
   "name": "python3"
  },
  "language_info": {
   "codemirror_mode": {
    "name": "ipython",
    "version": 3
   },
   "file_extension": ".py",
   "mimetype": "text/x-python",
   "name": "python",
   "nbconvert_exporter": "python",
   "pygments_lexer": "ipython3",
   "version": "3.7.6"
  }
 },
 "nbformat": 4,
 "nbformat_minor": 4
}
